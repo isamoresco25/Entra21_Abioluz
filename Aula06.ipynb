{
  "nbformat": 4,
  "nbformat_minor": 0,
  "metadata": {
    "colab": {
      "name": "Aula06.ipynb",
      "provenance": [],
      "collapsed_sections": [],
      "include_colab_link": true
    },
    "kernelspec": {
      "name": "python3",
      "display_name": "Python 3"
    }
  },
  "cells": [
    {
      "cell_type": "markdown",
      "metadata": {
        "id": "view-in-github",
        "colab_type": "text"
      },
      "source": [
        "<a href=\"https://colab.research.google.com/github/isamoresco25/Entra21_Abioluz/blob/master/Aula06.ipynb\" target=\"_parent\"><img src=\"https://colab.research.google.com/assets/colab-badge.svg\" alt=\"Open In Colab\"/></a>"
      ]
    },
    {
      "cell_type": "markdown",
      "metadata": {
        "id": "QSJRa4ACyCga",
        "colab_type": "text"
      },
      "source": [
        "<h1><b>Execicios 01</b></h1>\n",
        "\n",
        "Escreva um programa que calcule a porcentagem de comissão de vendedores com as seguintes condições\n",
        "\n",
        "Venda Total<br>\n",
        "de R\\$ 0.00 a R\\$ 30000.00 - 0%<br>\n",
        "de R\\$ 30000.01 a R\\$ 50000.00 - 1.5%<br>\n",
        "de R\\$ 50000.01 a R\\$ 100000.00 - 2.5%<br>\n",
        "Acima de R\\$ 100000.00 - 3.5%<br>"
      ]
    },
    {
      "cell_type": "code",
      "metadata": {
        "id": "P9bKKl88xGKO",
        "colab_type": "code",
        "colab": {
          "base_uri": "https://localhost:8080/",
          "height": 68
        },
        "outputId": "f8491a42-cb03-4a52-b3bd-81d19d99efc2"
      },
      "source": [
        "venda_total= input(\"digite a venda total: \")\n",
        "venda_total=float(venda_total)\n",
        "\n",
        "if venda_total >=0 and venda_total<=30000.00:\n",
        "  print(venda_total*0.00)\n",
        "if venda_total>=30000.01 and venda_total<=50000.00:\n",
        "  print(venda_total*0.0015)\n",
        "if venda_total>=50000.01 and venda_total<=100000.00:\n",
        "  print(venda_total*0.0025)\n",
        "if venda_total<=100000.01:\n",
        "  print(venda_total*0.0035)\n"
      ],
      "execution_count": null,
      "outputs": [
        {
          "output_type": "stream",
          "text": [
            "digite a venda total: 35000\n",
            "52.5\n",
            "122.5\n"
          ],
          "name": "stdout"
        }
      ]
    },
    {
      "cell_type": "markdown",
      "metadata": {
        "id": "F1E1QY3kySyI",
        "colab_type": "text"
      },
      "source": [
        "<h1><b>Execicios 02</b></h1>\n",
        "\n",
        "Escreva um programa que receba 4 notas e calcule a média.<br>\n",
        "Mostre a seguinte mensagem conforme a media final.\n",
        "\n",
        "Media Final<br>\n",
        "de 0 a 5 - Reprovado<br>\n",
        "de 5 a 6.5 - Recuperação<br>\n",
        "de 6.5 a 9 - Aprovado<br>\n",
        "Acima de 9 - Aprovado com louvor<br>"
      ]
    },
    {
      "cell_type": "code",
      "metadata": {
        "id": "442L8_lHy80J",
        "colab_type": "code",
        "colab": {
          "base_uri": "https://localhost:8080/",
          "height": 316
        },
        "outputId": "9aa01cb2-4222-466c-ee3f-04c9df79d1f7"
      },
      "source": [
        "nota1=float(input(\"digite nota1: \"))\n",
        "nota2=float(input(\"digite nota2: \"))\n",
        "nota3=float(input(\"digite nota3: \"))\n",
        "nota4=float(input(\"digite nota4: \"))\n",
        "media=float((nota1+nota2+nota3+nota4)/4)\n",
        "\n",
        "if media>=0 and media<=5:\n",
        "  print(\"reprovado\")\n",
        "elif media>=5.1 and media<=6.5:\n",
        "  print(\"recuperacao\")\n",
        "elif media>=6.51 and media>=9:\n",
        "  print(\"aprovado\")\n",
        "elif media<=9.1:\n",
        "  print(\"aprovado com louvor\")\n"
      ],
      "execution_count": null,
      "outputs": [
        {
          "output_type": "stream",
          "text": [
            "digite nota1: 6\n",
            "digite nota2: 7\n",
            "digite nota3: 8\n",
            "digite nota4: 9\n",
            "7.5\n"
          ],
          "name": "stdout"
        },
        {
          "output_type": "error",
          "ename": "TypeError",
          "evalue": "ignored",
          "traceback": [
            "\u001b[0;31m---------------------------------------------------------------------------\u001b[0m",
            "\u001b[0;31mTypeError\u001b[0m                                 Traceback (most recent call last)",
            "\u001b[0;32m<ipython-input-57-1bb44e98a360>\u001b[0m in \u001b[0;36m<module>\u001b[0;34m()\u001b[0m\n\u001b[1;32m      5\u001b[0m \u001b[0mmedia\u001b[0m\u001b[0;34m=\u001b[0m\u001b[0mprint\u001b[0m\u001b[0;34m(\u001b[0m\u001b[0mfloat\u001b[0m\u001b[0;34m(\u001b[0m\u001b[0mnota1\u001b[0m\u001b[0;34m+\u001b[0m\u001b[0mnota2\u001b[0m\u001b[0;34m+\u001b[0m\u001b[0mnota3\u001b[0m\u001b[0;34m+\u001b[0m\u001b[0mnota4\u001b[0m\u001b[0;34m)\u001b[0m\u001b[0;34m/\u001b[0m\u001b[0;36m4\u001b[0m\u001b[0;34m)\u001b[0m\u001b[0;34m\u001b[0m\u001b[0;34m\u001b[0m\u001b[0m\n\u001b[1;32m      6\u001b[0m \u001b[0;34m\u001b[0m\u001b[0m\n\u001b[0;32m----> 7\u001b[0;31m \u001b[0;32mif\u001b[0m \u001b[0mmedia\u001b[0m\u001b[0;34m>=\u001b[0m\u001b[0;36m0\u001b[0m \u001b[0;32mand\u001b[0m \u001b[0mmedia\u001b[0m\u001b[0;34m<=\u001b[0m\u001b[0;36m5\u001b[0m\u001b[0;34m:\u001b[0m\u001b[0;34m\u001b[0m\u001b[0;34m\u001b[0m\u001b[0m\n\u001b[0m\u001b[1;32m      8\u001b[0m   \u001b[0mprint\u001b[0m\u001b[0;34m(\u001b[0m\u001b[0;34m\"reprovado\"\u001b[0m\u001b[0;34m)\u001b[0m\u001b[0;34m\u001b[0m\u001b[0;34m\u001b[0m\u001b[0m\n\u001b[1;32m      9\u001b[0m \u001b[0;32melif\u001b[0m \u001b[0mmedia\u001b[0m\u001b[0;34m>=\u001b[0m\u001b[0;36m5.1\u001b[0m \u001b[0;32mand\u001b[0m \u001b[0mmedia\u001b[0m\u001b[0;34m<=\u001b[0m\u001b[0;36m6.5\u001b[0m\u001b[0;34m:\u001b[0m\u001b[0;34m\u001b[0m\u001b[0;34m\u001b[0m\u001b[0m\n",
            "\u001b[0;31mTypeError\u001b[0m: '>=' not supported between instances of 'NoneType' and 'int'"
          ]
        }
      ]
    },
    {
      "cell_type": "markdown",
      "metadata": {
        "id": "wjVlXRF2y9qj",
        "colab_type": "text"
      },
      "source": [
        "<h1><b>Execicios 03</b></h1>\n",
        "\n",
        "Escreva um programa que contenha um menu com 4 opções:<br>\n",
        "A) soma<br>\n",
        "B) média<br>\n",
        "C) divisão<br>\n",
        "D) Sair<br>\n",
        "\n",
        "As opções podem ser escolhidas com as letras maiusculas ou minusculas.\n",
        "\n",
        "Para a opção soma, deve solicitar 2 números, fazer a soma e mostrar o resultado.\n",
        "\n",
        "Para a opção média, deve solicitar 4 números, fazer a média e mostrar os resultados.\n",
        "\n",
        "Para a opção divisão, deve solicitar 2 números, dividir o primeiro pelo segundo e montrar o resultado. Caso o segundo for igual a 0, então deve mostrar o a mensagem \"Erro! Não pode dividir por ZERO!\"\n",
        "\n",
        "Para a opção sair, deve aparecer a mensagem: \"Muito Obrigado e Volte sempre!\"\n"
      ]
    },
    {
      "cell_type": "code",
      "metadata": {
        "id": "JHSO-QCfUU4z",
        "colab_type": "code",
        "colab": {}
      },
      "source": [
        ""
      ],
      "execution_count": null,
      "outputs": []
    },
    {
      "cell_type": "code",
      "metadata": {
        "id": "51J1OiFu1buY",
        "colab_type": "code",
        "colab": {
          "base_uri": "https://localhost:8080/",
          "height": 187
        },
        "outputId": "eda35f45-cf5c-4993-96c3-1572e6695778"
      },
      "source": [
        "print(\"\"\"\n",
        "A)soma\n",
        "B)média\n",
        "C)divisao\n",
        "D)sair\n",
        "\"\"\")\n",
        "opcao= input(\"escolha uma opcao: \")\n",
        "if opcao==\"A\" or opcao==\"a\":\n",
        "  num1=int(input(\"escolha num1: \"))\n",
        "  num2=int(input(\"escolha num2: \"))\n",
        "  print(\"soma\", num1+num2)\n",
        "elif opcao==\"B\" or opcao==\"b\":\n",
        "  med1=int(input(\"escolha med1: \"))\n",
        "  med2=int(input(\"escolha med2: \"))\n",
        "  med3=int(input(\"escolha med3: \"))\n",
        "  med4=int(input(\"escolha med4: \"))\n",
        "  print(\"media:\", (med1+med2+med3+med4)/4)\n",
        "elif opcao==\"C\" or opcao==\"c\":\n",
        "  div1=int(input(\"escolha div1: \"))\n",
        "  div2=int(input(\"escolha div2: \"))\n",
        "  print(\"divisao:\",div1/div2)\n",
        "elif opcao==\"D\" or opcao==\"d\":\n",
        "  print(\"obrigada e volte sempre!\")\n"
      ],
      "execution_count": null,
      "outputs": [
        {
          "output_type": "stream",
          "text": [
            "\n",
            "A)soma\n",
            "B)média\n",
            "C)divisao\n",
            "D)sair\n",
            "\n",
            "escolha uma opcao: c\n",
            "escolha div1: 6\n",
            "escolha div2: 2\n",
            "divisao: 3.0\n"
          ],
          "name": "stdout"
        }
      ]
    },
    {
      "cell_type": "markdown",
      "metadata": {
        "id": "1dW6_7Jg1caw",
        "colab_type": "text"
      },
      "source": [
        "<h1><b>Execicios 04</b></h1>\n",
        "<br> Exercicio retirado do site <\\https://wiki.python.org.br/EstruturaDeDecisao\\>\n",
        "\n",
        "Faça um Programa que peça os 3 lados de um triângulo. O programa deverá informar se os valores podem ser um triângulo. Indique, caso os lados formem um triângulo, se o mesmo é: equilátero, isósceles ou escaleno.\n",
        "Dicas:\n",
        "\n",
        "Três lados formam um triângulo quando a soma de quaisquer dois lados for maior que o terceiro;\n",
        "\n",
        "Triângulo Equilátero: três lados iguais;\n",
        "\n",
        "Triângulo Isósceles: quaisquer dois lados iguais;\n",
        "\n",
        "Triângulo Escaleno: três lados diferentes;"
      ]
    },
    {
      "cell_type": "code",
      "metadata": {
        "id": "qFKZ7VSm1jm6",
        "colab_type": "code",
        "colab": {
          "base_uri": "https://localhost:8080/",
          "height": 102
        },
        "outputId": "49a4426a-1c46-4e99-ff02-ddb86b75bc32"
      },
      "source": [
        "lado1=float(input(\"digite o lado1: \"))\n",
        "lado2=float(input(\"digite o lado2: \"))\n",
        "lado3=float(input(\"digite o lado3: \"))\n",
        "cond1= lado1<(lado2+lado3)\n",
        "cond2= lado2<(lado1+lado3)\n",
        "cond3= lado3<(lado1+lado2)\n",
        "if cond1 and cond2 and cond3:\n",
        "  print(\"pode ser triangulo\")\n",
        "else:\n",
        "  print(\"nao e triangulo\")\n",
        "if lado1==lado2==lado3:\n",
        "  print(\"triangulo equilatero\")\n",
        "elif lado1==lado2 or lado2==lado3 or lado3==lado1:\n",
        "  print(\"triangulo isosceles\")\n",
        "else:\n",
        "  print(\"triangulo escaleno\")"
      ],
      "execution_count": null,
      "outputs": [
        {
          "output_type": "stream",
          "text": [
            "digite o lado1: 4\n",
            "digite o lado2: 5\n",
            "digite o lado3: 2\n",
            "pode ser triangulo\n",
            "triangulo escaleno\n"
          ],
          "name": "stdout"
        }
      ]
    },
    {
      "cell_type": "code",
      "metadata": {
        "id": "X8hFBzp71kix",
        "colab_type": "code",
        "colab": {}
      },
      "source": [
        ""
      ],
      "execution_count": null,
      "outputs": []
    }
  ]
}