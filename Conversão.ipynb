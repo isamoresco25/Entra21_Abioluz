{
  "nbformat": 4,
  "nbformat_minor": 0,
  "metadata": {
    "colab": {
      "name": "conversao.ipynb",
      "provenance": [],
      "collapsed_sections": [],
      "include_colab_link": true
    },
    "kernelspec": {
      "display_name": "Python 3",
      "language": "python",
      "name": "python3"
    },
    "language_info": {
      "codemirror_mode": {
        "name": "ipython",
        "version": 3
      },
      "file_extension": ".py",
      "mimetype": "text/x-python",
      "name": "python",
      "nbconvert_exporter": "python",
      "pygments_lexer": "ipython3",
      "version": "3.7.3"
    }
  },
  "cells": [
    {
      "cell_type": "markdown",
      "metadata": {
        "id": "view-in-github",
        "colab_type": "text"
      },
      "source": [
        "<a href=\"https://colab.research.google.com/github/isamoresco25/Entra21_Abioluz/blob/master/conversao.ipynb\" target=\"_parent\"><img src=\"https://colab.research.google.com/assets/colab-badge.svg\" alt=\"Open In Colab\"/></a>"
      ]
    },
    {
      "cell_type": "markdown",
      "metadata": {
        "id": "RlC1hozlWGqO",
        "colab_type": "text"
      },
      "source": [
        "---\n",
        "\n",
        "\n",
        "<h1><b><center>Convertendo Tipos de Variáveis</center></b></h1>\n",
        "\n",
        "\n",
        "---"
      ]
    },
    {
      "cell_type": "markdown",
      "metadata": {
        "id": "pc7Sxdu7WGqh",
        "colab_type": "text"
      },
      "source": [
        "O input() sempre irá retornar para nós uma string (texto).<br>\n",
        "Porém as vezes precisamos de outros tipos de dados como um inteiro ou um float (ponto flutuante ou real).<br>\n",
        "Para isso devemos usar funções para converter como:<br>\n",
        "- int() para interios\n",
        "- float() para float\n",
        "\n",
        "A escolha vai depender do que você está trabalhando.<br>\n",
        "Exemplo:"
      ]
    },
    {
      "cell_type": "code",
      "metadata": {
        "id": "CH_w32ZmWGqm",
        "colab_type": "code",
        "colab": {}
      },
      "source": [
        "# converter variável\n",
        "\n",
        "# de string para inteiro\n",
        "var = '10' # a aspa indica que a variável é do tipo string. \n",
        "var = int(var) # Estou convertendo e salvando na mesma variável\n",
        "\n",
        "# de inteiro para string\n",
        "var = 10\n",
        "var = str(var)\n",
        "\n",
        "# de float para string\n",
        "var = 9.50\n",
        "var = str(var)\n",
        "\n",
        "# de string para float\n",
        "var = '10.75'\n",
        "var = float(var)\n",
        "\n",
        "# de inteiro para float\n",
        "var = 10\n",
        "var = float(var)\n",
        "\n",
        "# de float para inteiro\n",
        "# Ficar atento que esta conversão pega somente a parte inteira do número. A parte depois da virgula é perdida\n",
        "\n",
        "var = 7.85\n",
        "var = int(var)\n",
        "print(var)\n",
        "\n",
        "\n",
        "print('\\n')\n",
        "\n",
        "\n",
        "# pedir 2 números inteiros e fazer a soma deles\n",
        "numero1 = int(input(\"Digite o primeiro número: \"))\n",
        "numero2 = int(input(\"Digite o segundo número: \"))\n",
        "soma = numero1 + numero2\n",
        "print(\"A soma dos números é: \", soma)\n",
        "\n",
        "# pedir 2 número float e somar os dois\n",
        "numero1 = float(input(\"Digite o primeiro número: \"))\n",
        "numero2 = float(input(\"Digite o segundo número: \"))\n",
        "soma = numero1 + numero2\n",
        "print(\"A soma dos números é: \", soma)\n",
        "\n",
        "# em via de regra, usamos o float quando queremos trabalhar com dinheiro, preço, peso, altura...\n",
        "valor = float(input(\"Digite o preço do produto: \"))\n",
        "quantidade = int(input(\"Digite a quantidade de produto que você deseja: \"))\n",
        "preco_total = valor * quantidade\n",
        "print(\"O valor total a ser pago é: \", preco_total)\n"
      ],
      "execution_count": null,
      "outputs": []
    },
    {
      "cell_type": "markdown",
      "metadata": {
        "id": "SVJXtniPWGrL",
        "colab_type": "text"
      },
      "source": [
        "Uma forma de saber que tipo de variável é usando a função type().\n",
        "\n",
        "Exemplo:"
      ]
    },
    {
      "cell_type": "code",
      "metadata": {
        "id": "7YgUOTlZWGrP",
        "colab_type": "code",
        "colab": {}
      },
      "source": [
        "# para descobrir qual o tipo da variável\n",
        "variavel = 10 #inteiro\n",
        "print(\"Inteiro\")\n",
        "print(type(variavel))\n",
        "\n",
        "print('\\n')\n",
        "\n",
        "variavel = 10.0 # float\n",
        "print(\"Float\")\n",
        "print(type(variavel))\n",
        "\n",
        "print('\\n')\n",
        "\n",
        "variavel = '10 abc' # string (texto)\n",
        "print(\"string\")\n",
        "print(type(variavel))\n",
        "\n"
      ],
      "execution_count": null,
      "outputs": []
    },
    {
      "cell_type": "markdown",
      "metadata": {
        "id": "_F9j_L6uWGr_",
        "colab_type": "text"
      },
      "source": [
        "<h1><b>Exercicio 8</b></h1>\n",
        "\n",
        "Converta as seguintes variáveis e imprima na tela o valor e o tipo da variável"
      ]
    },
    {
      "cell_type": "code",
      "metadata": {
        "id": "fpRjD_a6WGsG",
        "colab_type": "code",
        "colab": {}
      },
      "source": [
        "# 8.1 Para string (exemplo)\n",
        "numero = 10  # variável para conversão\n",
        "\n",
        "numero = str(numero) # convertendo a variável\n",
        "print(numero,type(numero)) # imprimindo na tela o valor e o tipo da variável\n",
        "\n",
        "print('\\n')\n",
        "\n",
        "# 8.2 Para float\n",
        "valor = '1.99'\n",
        "\n",
        "\n",
        "print('\\n')\n",
        "\n",
        "# 8.3 Para inteiro\n",
        "inteiro = 8.75\n",
        "\n",
        "\n",
        "print('\\n')\n",
        "\n",
        "# 8.4 Para string\n",
        "texto_idade = 9\n",
        "\n",
        "\n",
        "print('\\n')\n",
        "\n",
        "# 8.5 Para float\n",
        "valor = 10\n",
        "\n",
        "\n",
        "print('\\n')\n",
        "\n",
        "# 8.6 Para inteiro\n",
        "idade = '9'\n",
        "\n",
        "\n",
        "print('\\n')\n",
        "\n",
        "# 8.7 Para string\n",
        "peso_quilo = 1.755\n"
      ],
      "execution_count": null,
      "outputs": []
    },
    {
      "cell_type": "markdown",
      "metadata": {
        "id": "vsvut38sWGsf",
        "colab_type": "text"
      },
      "source": [
        "<h1><b>Exercicio 9</b></h1>\n",
        "Faça um programa que peça o nome do cliente, a quantidade do produto (inteiro) e o preço (float).\n",
        "\n",
        "Mostre o nome do cliente e o valor total da venda."
      ]
    },
    {
      "cell_type": "code",
      "metadata": {
        "id": "qvLYbcAeWGsj",
        "colab_type": "code",
        "colab": {}
      },
      "source": [
        ""
      ],
      "execution_count": null,
      "outputs": []
    },
    {
      "cell_type": "markdown",
      "metadata": {
        "id": "3cpIzhVEWGsz",
        "colab_type": "text"
      },
      "source": [
        "<h1><b>Exercicio 10</b></h1>\n",
        "Faça um programa que peça o nome de 2 produtos, a quantidade comprada de cada produto (inteiro) e o valor (float) de cada um.\n",
        "\n",
        "Mostre o nome a quantidade, preço por unidade e o total de cada produto."
      ]
    },
    {
      "cell_type": "code",
      "metadata": {
        "id": "KQsPHRVtWGs-",
        "colab_type": "code",
        "colab": {}
      },
      "source": [
        ""
      ],
      "execution_count": null,
      "outputs": []
    },
    {
      "cell_type": "markdown",
      "metadata": {
        "id": "AlxgwP_zWGtM",
        "colab_type": "text"
      },
      "source": [
        "<h1><b>Exercicio 11</b></h1>\n",
        "Escreva um programa que peça o peso (float) de 3 pessoas e motre na tela a soma de todos os pesos. "
      ]
    },
    {
      "cell_type": "code",
      "metadata": {
        "id": "N_ZSAIUzWGtO",
        "colab_type": "code",
        "colab": {}
      },
      "source": [
        ""
      ],
      "execution_count": null,
      "outputs": []
    }
  ]
}
