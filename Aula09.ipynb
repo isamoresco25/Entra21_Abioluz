{
  "nbformat": 4,
  "nbformat_minor": 0,
  "metadata": {
    "colab": {
      "name": "Aula09.ipynb",
      "provenance": [],
      "include_colab_link": true
    },
    "kernelspec": {
      "name": "python3",
      "display_name": "Python 3"
    }
  },
  "cells": [
    {
      "cell_type": "markdown",
      "metadata": {
        "id": "view-in-github",
        "colab_type": "text"
      },
      "source": [
        "<a href=\"https://colab.research.google.com/github/isamoresco25/Entra21_Isadora/blob/master/Aula09.ipynb\" target=\"_parent\"><img src=\"https://colab.research.google.com/assets/colab-badge.svg\" alt=\"Open In Colab\"/></a>"
      ]
    },
    {
      "cell_type": "markdown",
      "metadata": {
        "id": "Ty0EoUjjyQ_I",
        "colab_type": "text"
      },
      "source": [
        "------\n",
        "\n",
        "<h1><b> Laço de repetição for </b></h1>\n",
        "\n",
        "------\n",
        "\n",
        "Laço de repetição for é o laço de repetição mais usado no Python.\n",
        "\n",
        "A estrutura básica do for é:\n",
        "\n",
        "for i in range(numero):<br>\n",
        "....<código a ser repetido>\n",
        "\n",
        "Dentro do range() deve ser colocado um número inteiro de vezes que você quer que o for faça o loop.\n"
      ]
    },
    {
      "cell_type": "code",
      "metadata": {
        "id": "RiFrISL-yJxd",
        "colab_type": "code",
        "colab": {}
      },
      "source": [
        "# Exemplo1: Uso do for.\n",
        "\n",
        "# Faça um programa que mostre na tela números de 0 a 10.\n",
        "\n",
        "for i in range( 11 ): # Com o range() ele vai começar com o zero e ir até um numeor antes do 11!\n",
        "    print( i ) "
      ],
      "execution_count": null,
      "outputs": []
    },
    {
      "cell_type": "code",
      "metadata": {
        "id": "XhFsR0YA0hYy",
        "colab_type": "code",
        "colab": {}
      },
      "source": [
        "# Exemplo2: Uso do for.\n",
        "\n",
        "# Faça um programa que mostre a taboada do 7.\n",
        "\n",
        "for i in range(11):\n",
        "    print(f\"7 x {i} = {i*7}\")"
      ],
      "execution_count": null,
      "outputs": []
    },
    {
      "cell_type": "code",
      "metadata": {
        "id": "IW7BfvI51Tql",
        "colab_type": "code",
        "colab": {}
      },
      "source": [
        "# Exemplo3: Uso do for.\n",
        "\n",
        "# Faça um programa que peça 5 notas de um aluno e mostre a média\n",
        "\n",
        "notasAlunos = [ ] # A lista tem que ser iniciada fora do for\"\n",
        "                  # Se a lista for iniciada dentro do for, a cada loop a lista será apagada!\n",
        "\n",
        "for i in range(5): \n",
        "    nota = float (input(f\"Digite a nota {i+1}: \"))\n",
        "    notasAlunos.append(nota)\n",
        "\n",
        "print(f\"A média é: {sum(notasAlunos) / len( notasAlunos )}\")\n",
        "\n",
        "# Não ficou fácil? Agora ao invés de usar 5 variáveis, usamos 1 lista."
      ],
      "execution_count": null,
      "outputs": []
    },
    {
      "cell_type": "code",
      "metadata": {
        "id": "di75mu4Kgkv_",
        "colab_type": "code",
        "colab": {}
      },
      "source": [
        ""
      ],
      "execution_count": null,
      "outputs": []
    },
    {
      "cell_type": "markdown",
      "metadata": {
        "id": "YFyg5N5xg3zt",
        "colab_type": "text"
      },
      "source": [
        "<b>Exercicio 01</b>\n",
        "\n",
        "Faça um programa que conte de 0 a 100 e mostre todos os números."
      ]
    },
    {
      "cell_type": "code",
      "metadata": {
        "id": "felPKbs_hpzF",
        "colab_type": "code",
        "colab": {
          "base_uri": "https://localhost:8080/",
          "height": 1000
        },
        "outputId": "ecc00fab-2ad1-4ae5-850e-3bdc5fa36487"
      },
      "source": [
        "lista=[]\n",
        "for i in range(101):\n",
        "  print(i)"
      ],
      "execution_count": null,
      "outputs": [
        {
          "output_type": "stream",
          "text": [
            "0\n",
            "1\n",
            "2\n",
            "3\n",
            "4\n",
            "5\n",
            "6\n",
            "7\n",
            "8\n",
            "9\n",
            "10\n",
            "11\n",
            "12\n",
            "13\n",
            "14\n",
            "15\n",
            "16\n",
            "17\n",
            "18\n",
            "19\n",
            "20\n",
            "21\n",
            "22\n",
            "23\n",
            "24\n",
            "25\n",
            "26\n",
            "27\n",
            "28\n",
            "29\n",
            "30\n",
            "31\n",
            "32\n",
            "33\n",
            "34\n",
            "35\n",
            "36\n",
            "37\n",
            "38\n",
            "39\n",
            "40\n",
            "41\n",
            "42\n",
            "43\n",
            "44\n",
            "45\n",
            "46\n",
            "47\n",
            "48\n",
            "49\n",
            "50\n",
            "51\n",
            "52\n",
            "53\n",
            "54\n",
            "55\n",
            "56\n",
            "57\n",
            "58\n",
            "59\n",
            "60\n",
            "61\n",
            "62\n",
            "63\n",
            "64\n",
            "65\n",
            "66\n",
            "67\n",
            "68\n",
            "69\n",
            "70\n",
            "71\n",
            "72\n",
            "73\n",
            "74\n",
            "75\n",
            "76\n",
            "77\n",
            "78\n",
            "79\n",
            "80\n",
            "81\n",
            "82\n",
            "83\n",
            "84\n",
            "85\n",
            "86\n",
            "87\n",
            "88\n",
            "89\n",
            "90\n",
            "91\n",
            "92\n",
            "93\n",
            "94\n",
            "95\n",
            "96\n",
            "97\n",
            "98\n",
            "99\n",
            "100\n"
          ],
          "name": "stdout"
        }
      ]
    },
    {
      "cell_type": "markdown",
      "metadata": {
        "id": "vxXrflX8hqYm",
        "colab_type": "text"
      },
      "source": [
        "<b>Exercicio 02</b>\n",
        "\n",
        "Faça um programa que mostre a tabuada de 1, 2, 3 e 4"
      ]
    },
    {
      "cell_type": "code",
      "metadata": {
        "id": "oiqFl9nKiBUs",
        "colab_type": "code",
        "colab": {
          "base_uri": "https://localhost:8080/",
          "height": 204
        },
        "outputId": "6bf1fd2d-1883-455b-d93f-19347ef5dd57"
      },
      "source": [
        "for i in range(11):\n",
        "  print(f\"7x{i}= {7*i}\")"
      ],
      "execution_count": null,
      "outputs": [
        {
          "output_type": "stream",
          "text": [
            "7x0= 0\n",
            "7x1= 7\n",
            "7x2= 14\n",
            "7x3= 21\n",
            "7x4= 28\n",
            "7x5= 35\n",
            "7x6= 42\n",
            "7x7= 49\n",
            "7x8= 56\n",
            "7x9= 63\n",
            "7x10= 70\n"
          ],
          "name": "stdout"
        }
      ]
    },
    {
      "cell_type": "markdown",
      "metadata": {
        "id": "9firkc2JhszR",
        "colab_type": "text"
      },
      "source": [
        "<b>Exercicio 03</b>\n",
        "\n",
        "Faça um programa que peça 10 notas do aluno. Faça a média e mostre as seguintes mensagens:\n",
        "\n",
        "Para 7 a 10 - Aprovado<br>\n",
        "Para 5.5 a 7 - Recuperação <br>\n",
        "Para menor de 5.5 - Reprovado"
      ]
    },
    {
      "cell_type": "code",
      "metadata": {
        "id": "hxKuPSpxiB0c",
        "colab_type": "code",
        "colab": {
          "base_uri": "https://localhost:8080/",
          "height": 221
        },
        "outputId": "937cb4ff-e525-45e3-eba1-00e1a3b366b3"
      },
      "source": [
        "nota_alunos= []\n",
        "for i in range(10):\n",
        "  nota=float(input(f\"Digite a nota {i+1}: \"))\n",
        "  nota_alunos.append(nota)\n",
        "media= float(sum(nota_alunos)/len(nota_alunos))\n",
        "print(media)\n",
        "if media>7 and media<10:\n",
        "  print(\"aprovado\")\n",
        "elif media>5.5 and media<7:\n",
        "  print(\"recuperação\")\n",
        "elif media<5.5:\n",
        "  print(\"reprovado\")"
      ],
      "execution_count": null,
      "outputs": [
        {
          "output_type": "stream",
          "text": [
            "Digite a nota 1: 6\n",
            "Digite a nota 2: 7\n",
            "Digite a nota 3: 8\n",
            "Digite a nota 4: 9\n",
            "Digite a nota 5: 10\n",
            "Digite a nota 6: 3\n",
            "Digite a nota 7: 4\n",
            "Digite a nota 8: 5\n",
            "Digite a nota 9: 10\n",
            "Digite a nota 10: 9\n",
            "7.1\n",
            "aprovado\n"
          ],
          "name": "stdout"
        }
      ]
    },
    {
      "cell_type": "markdown",
      "metadata": {
        "id": "GkG7YFsLhtgP",
        "colab_type": "text"
      },
      "source": [
        "<b>Exercicio 04</b>\n",
        "\n",
        "Faça um programa de cadastro de pessoas que receba 10 nomes, idades e e-mails e salve cada um em uma lista.\n",
        "\n",
        "Depois mostre as listas separadamente \n",
        "(print (lista) já é o suficiente)"
      ]
    },
    {
      "cell_type": "code",
      "metadata": {
        "id": "JBCvn_QWiCYE",
        "colab_type": "code",
        "colab": {
          "base_uri": "https://localhost:8080/",
          "height": 578
        },
        "outputId": "60a851ef-fc86-458e-e0bd-ae7df6108f43"
      },
      "source": [
        "lista_nomes=[]\n",
        "for i in range(10):\n",
        "  nomes=input(f\"digite nome {i+1}: \")\n",
        "  lista_nomes.append(nomes)\n",
        "print(lista_nomes)\n",
        "lista_idades=[]\n",
        "for i in range(10):\n",
        "  idades=input(f\"digite idade {i+1}: \")\n",
        "  lista_idades.append(idades)\n",
        "print(lista_idades)\n",
        "lista_emails= []\n",
        "for i in range(10):\n",
        "  emails=input(f\"digite o email {i+1}: \")\n",
        "  lista_emails.append(emails)\n",
        "print(lista_emails)\n",
        "\n",
        "  "
      ],
      "execution_count": null,
      "outputs": [
        {
          "output_type": "stream",
          "text": [
            "digite nome 1: isa\n",
            "digite nome 2: le\n",
            "digite nome 3: lu\n",
            "digite nome 4: mille\n",
            "digite nome 5: mah\n",
            "digite nome 6: mari\n",
            "digite nome 7: amanda\n",
            "digite nome 8: meg\n",
            "digite nome 9: nina\n",
            "digite nome 10: fiona\n",
            "['isa', 'le', 'lu', 'mille', 'mah', 'mari', 'amanda', 'meg', 'nina', 'fiona']\n",
            "digite idade 1: 18\n",
            "digite idade 2: 18\n",
            "digite idade 3: 19\n",
            "digite idade 4: 18\n",
            "digite idade 5: 18\n",
            "digite idade 6: 41\n",
            "digite idade 7: 15\n",
            "digite idade 8: 6\n",
            "digite idade 9: 15\n",
            "digite idade 10: 3\n",
            "['18', '18', '19', '18', '18', '41', '15', '6', '15', '3']\n",
            "digite o email 1: isagmail\n",
            "digite o email 2: legmail\n",
            "digite o email 3: lugmail\n",
            "digite o email 4: millegmail\n",
            "digite o email 5: mahgmail\n",
            "digite o email 6: marigmail\n",
            "digite o email 7: amandagmail\n",
            "digite o email 8: meggmail\n",
            "digite o email 9: ninagmail\n",
            "digite o email 10: fionagmail\n",
            "['isagmail', 'legmail', 'lugmail', 'millegmail', 'mahgmail', 'marigmail', 'amandagmail', 'meggmail', 'ninagmail', 'fionagmail']\n"
          ],
          "name": "stdout"
        }
      ]
    },
    {
      "cell_type": "markdown",
      "metadata": {
        "id": "aeO_h3nAhuFv",
        "colab_type": "text"
      },
      "source": [
        "<b>Exercicio 05</b>\n",
        "\n",
        "Faça um programa que peça ao usuário digitar a quantidade de vendas do dia. Cadastre cada venda separadaemnte e depois mostre a média e o valor total vendido no dia."
      ]
    },
    {
      "cell_type": "code",
      "metadata": {
        "id": "xXB8UvNbiC8o",
        "colab_type": "code",
        "colab": {
          "base_uri": "https://localhost:8080/",
          "height": 119
        },
        "outputId": "d99142a0-01eb-4a52-c5b9-8044481cdebd"
      },
      "source": [
        "vendas_dodia=[]\n",
        "venda=[]\n",
        "vendas= int(input(f\"digite quantas vendas teve no dia: \"))\n",
        "for i in range(vendas):\n",
        " vendas= float(input(f\"valor vendas {i+1}: \"))\n",
        " venda.append(vendas)\n",
        " media= sum(venda)/len(venda)\n",
        "print(\"media total: \", media)\n",
        "valor_total=sum(venda)\n",
        "print(\"valor total: \", valor_total)"
      ],
      "execution_count": null,
      "outputs": [
        {
          "output_type": "stream",
          "text": [
            "digite quantas vendas teve no dia: 3\n",
            "valor vendas 1: 99.99\n",
            "valor vendas 2: 59.90\n",
            "valor vendas 3: 20.00\n",
            "media total:  59.96333333333333\n",
            "valor total:  179.89\n"
          ],
          "name": "stdout"
        }
      ]
    },
    {
      "cell_type": "markdown",
      "metadata": {
        "id": "FiUBtuCDkxvo",
        "colab_type": "text"
      },
      "source": [
        "----\n",
        "\n",
        "<h1><b> Uso de for com listas. </b></h1>\n",
        "\n",
        "----\n",
        "\n",
        "Para poder usar o for com listas, você deve substituir o range() pelo nome da lista.\n",
        "\n",
        "A cada interação (loop) do for, a variável i ficará com um elemento da lista."
      ]
    },
    {
      "cell_type": "code",
      "metadata": {
        "id": "tNwGr-UklaeH",
        "colab_type": "code",
        "colab": {}
      },
      "source": [
        "# Exemplo1: \n",
        "# Faça um programa que de o bom dia para cada convidade da lista.\n",
        "\n",
        "convidados = [\"Paulo\", \"Pedro\", \"João\", \"Guilherme\",\"Fábio\"]\n",
        "\n",
        "for i in convidados:\n",
        "    print(f\"Bom dia {i}\") # Note que a variável i recebe elementos da lista"
      ],
      "execution_count": null,
      "outputs": []
    },
    {
      "cell_type": "code",
      "metadata": {
        "id": "JkpD8DlKlcF3",
        "colab_type": "code",
        "colab": {}
      },
      "source": [
        "# Exemplo2: \n",
        "# Faça um programa que solicite 3 nomes e depois mostre os nomes um em cada linha\n",
        "\n",
        "nomes_cadastro = []\n",
        "for i in range(3): # Parte do código responsável pela captura dos nomes\n",
        "    nome = input(\"Digite o nome: \")\n",
        "    nomes_cadastro.append(nome)\n",
        "\n",
        "for i in nomes_cadastro: # Parde do código responsável pela apresentação dos nomes\n",
        "    print(i)"
      ],
      "execution_count": null,
      "outputs": []
    },
    {
      "cell_type": "code",
      "metadata": {
        "id": "HWFxKuBhlcgb",
        "colab_type": "code",
        "colab": {
          "base_uri": "https://localhost:8080/",
          "height": 289
        },
        "outputId": "49dceced-07b6-4220-e9aa-0c1ab802e5ab"
      },
      "source": [
        "# Exemplo\n",
        "# Com a lista de idades, mostre a idade e se pode entrar na festa.\n",
        "# A entrada é permitida para maiores de 16 anos.\n",
        "\n",
        "idades = [13, 15, 19, 14, 16, 17, 17, 15, 18, 20, 12, 10, 15, 16, 16, 23]\n",
        "\n",
        "for i in idades:\n",
        "    if i >= 16:\n",
        "        print(f\"Idade: {i} - Entrada permitida!\")\n",
        "    else:\n",
        "        print(f\"Idade: {i} - Entrada negada!\")"
      ],
      "execution_count": null,
      "outputs": [
        {
          "output_type": "stream",
          "text": [
            "Idade: 13 - Entrada negada!\n",
            "Idade: 15 - Entrada negada!\n",
            "Idade: 19 - Entrada permitida!\n",
            "Idade: 14 - Entrada negada!\n",
            "Idade: 16 - Entrada permitida!\n",
            "Idade: 17 - Entrada permitida!\n",
            "Idade: 17 - Entrada permitida!\n",
            "Idade: 15 - Entrada negada!\n",
            "Idade: 18 - Entrada permitida!\n",
            "Idade: 20 - Entrada permitida!\n",
            "Idade: 12 - Entrada negada!\n",
            "Idade: 10 - Entrada negada!\n",
            "Idade: 15 - Entrada negada!\n",
            "Idade: 16 - Entrada permitida!\n",
            "Idade: 16 - Entrada permitida!\n",
            "Idade: 23 - Entrada permitida!\n"
          ],
          "name": "stdout"
        }
      ]
    },
    {
      "cell_type": "markdown",
      "metadata": {
        "id": "goduLBlhhuel",
        "colab_type": "text"
      },
      "source": [
        "<b>Exercicio 06</b>\n",
        "\n",
        "Faça um programa que peça ao usuário que digite o nome de 10 pessoas. Depois mostre cada nome em linhas separadas."
      ]
    },
    {
      "cell_type": "code",
      "metadata": {
        "id": "xS3d9sHvtXxR",
        "colab_type": "code",
        "colab": {
          "base_uri": "https://localhost:8080/",
          "height": 357
        },
        "outputId": "c2e0ee73-acbf-480e-dd18-71275944c9ba"
      },
      "source": [
        "nomes=[]\n",
        "for i in range(10):\n",
        "  nome=input(f\"digite nome {i+1}: \")\n",
        "  print(nome)"
      ],
      "execution_count": null,
      "outputs": [
        {
          "output_type": "stream",
          "text": [
            "digite nome 1: isadora\n",
            "isadora\n",
            "digite nome 2: marili\n",
            "marili\n",
            "digite nome 3: marisa\n",
            "marisa\n",
            "digite nome 4: jair\n",
            "jair\n",
            "digite nome 5: nina\n",
            "nina\n",
            "digite nome 6: meg\n",
            "meg\n",
            "digite nome 7: fiona\n",
            "fiona\n",
            "digite nome 8: mel\n",
            "mel\n",
            "digite nome 9: suzi\n",
            "suzi\n",
            "digite nome 10: pepi\n",
            "pepi\n"
          ],
          "name": "stdout"
        }
      ]
    },
    {
      "cell_type": "markdown",
      "metadata": {
        "id": "uxEaQ4czhvAB",
        "colab_type": "text"
      },
      "source": [
        "<b>Exercicio 07</b>\n",
        "\n",
        "Faça um programa que receba 10 idades e mostre a seguinte mensagem:\n",
        "\n",
        "Para maiores de 18 anos: Ingreços da Rave liberado!<br>\n",
        "De 16 a 18 anos: Ingreços de cinema liberado <br>\n",
        "De 13 a 16 anos: Ingreços para fliperama liberado<br>\n",
        "Menores de 13 anos: Psicina de bolinhas liberado"
      ]
    },
    {
      "cell_type": "code",
      "metadata": {
        "id": "UOQd0H4ZiEKz",
        "colab_type": "code",
        "colab": {
          "base_uri": "https://localhost:8080/",
          "height": 340
        },
        "outputId": "1516472a-ee03-4217-a849-31cbba62d564"
      },
      "source": [
        "lista_idades=[]\n",
        "for i in range(10):\n",
        "  idade=int(input(f'digite idade {i+1}: '))\n",
        "  lista_idades.append(idade)\n",
        "for i in lista_idades:\n",
        "  if i>18:\n",
        "    print(f\"Idade: {i} - Ingressos da Rave liberados!\")\n",
        "  elif i>18 and i<16:\n",
        "     print(f\"Idade: {i} - Ingressos do cinema abertos!\")\n",
        "  elif i>13 and i<16:\n",
        "      print(f\"Idade: {i} - Ingressos para fliperama liberados!\")\n",
        "  elif i<13:\n",
        "      print(f\"Idade: {i} - Piscina de bolinhas liberada!\")"
      ],
      "execution_count": null,
      "outputs": [
        {
          "output_type": "stream",
          "text": [
            "digite idade 1: 6\n",
            "digite idade 2: 8\n",
            "digite idade 3: 10\n",
            "digite idade 4: 15\n",
            "digite idade 5: 20\n",
            "digite idade 6: 17\n",
            "digite idade 7: 9\n",
            "digite idade 8: 12\n",
            "digite idade 9: 7\n",
            "digite idade 10: 22\n",
            "Idade: 6 - Piscina de bolinhas liberada!\n",
            "Idade: 8 - Piscina de bolinhas liberada!\n",
            "Idade: 10 - Piscina de bolinhas liberada!\n",
            "Idade: 15 - Ingressos para fliperama liberados!\n",
            "Idade: 20 - Ingressos da Rave liberados!\n",
            "Idade: 9 - Piscina de bolinhas liberada!\n",
            "Idade: 12 - Piscina de bolinhas liberada!\n",
            "Idade: 7 - Piscina de bolinhas liberada!\n",
            "Idade: 22 - Ingressos da Rave liberados!\n"
          ],
          "name": "stdout"
        }
      ]
    },
    {
      "cell_type": "markdown",
      "metadata": {
        "id": "RLXU617Ch7ST",
        "colab_type": "text"
      },
      "source": [
        "<b>Exercicio 08</b>\n",
        "\n",
        "Faça um programa que pegue a lista e calcule a seguinte formula: 32x+125\n",
        "\n",
        "Com o resultado desta formula mostre sómente os resultados maiores que 550. Para os resultados menores que 550 mostre \"número invalido!\"\n",
        "\n",
        "lista = [1, 6, 9, 1, 5, 4, 8, 9, 15, 23, 14, 54, 82, 91, 45]\n"
      ]
    },
    {
      "cell_type": "code",
      "metadata": {
        "id": "lnHYZb58iEuv",
        "colab_type": "code",
        "colab": {
          "base_uri": "https://localhost:8080/",
          "height": 272
        },
        "outputId": "a9f2c634-a896-4b6a-a101-d2f59eb74746"
      },
      "source": [
        "lista = [1, 6, 9, 1, 5, 4, 8, 9, 15, 23, 14, 54, 82, 91, 45]\n",
        "for i in lista:\n",
        "  print(32*i+125)"
      ],
      "execution_count": null,
      "outputs": [
        {
          "output_type": "stream",
          "text": [
            "157\n",
            "317\n",
            "413\n",
            "157\n",
            "285\n",
            "253\n",
            "381\n",
            "413\n",
            "605\n",
            "861\n",
            "573\n",
            "1853\n",
            "2749\n",
            "3037\n",
            "1565\n"
          ],
          "name": "stdout"
        }
      ]
    },
    {
      "cell_type": "markdown",
      "metadata": {
        "id": "icqtXstnh8og",
        "colab_type": "text"
      },
      "source": [
        "<b>Exercicio 09</b>\n",
        "\n",
        "Faça um programa que pegue uma lista de valores e separe em 2 listas. Uma com valores menores que 500.00 e outra com maiores ou igual.\n",
        "\n",
        "Depois motre o maior e o menor valor da cada lista.\n",
        "\n",
        "vandas = [100.00, 500.00, 258.50, 710.00, 50.50,750.00, 10.00, 1050.00, 859.75, 199.05, 500.50,750.00, 568.60, 950.00, 950.00, 89.90, 2500.00, 1750.00,500.00]"
      ]
    },
    {
      "cell_type": "code",
      "metadata": {
        "id": "egIUknrZua7r",
        "colab_type": "code",
        "colab": {
          "base_uri": "https://localhost:8080/",
          "height": 340
        },
        "outputId": "d15a0a67-ed3d-4252-db5b-a8fc8f0bfd9e"
      },
      "source": [
        "vendas = [100.00, 500.00, 258.50, 710.00, 50.50,750.00, 10.00, 1050.00, 859.75, 199.05, 500.50,750.00, 568.60, 950.00, 950.00, 89.90, 2500.00, 1750.00,500.00]\n",
        "vendas1=[]\n",
        "vendas2=[]\n",
        "for i in vendas:\n",
        "  if i<500.00:\n",
        "    (vendas1).append(i)\n",
        "    print(\"vendas1: \", vendas1)\n",
        "  else:\n",
        "    vendas2.append(i)\n",
        "    print(\"vendas2: \", vendas2)"
      ],
      "execution_count": null,
      "outputs": [
        {
          "output_type": "stream",
          "text": [
            "vendas1:  [100.0]\n",
            "vendas2:  [500.0]\n",
            "vendas1:  [100.0, 258.5]\n",
            "vendas2:  [500.0, 710.0]\n",
            "vendas1:  [100.0, 258.5, 50.5]\n",
            "vendas2:  [500.0, 710.0, 750.0]\n",
            "vendas1:  [100.0, 258.5, 50.5, 10.0]\n",
            "vendas2:  [500.0, 710.0, 750.0, 1050.0]\n",
            "vendas2:  [500.0, 710.0, 750.0, 1050.0, 859.75]\n",
            "vendas1:  [100.0, 258.5, 50.5, 10.0, 199.05]\n",
            "vendas2:  [500.0, 710.0, 750.0, 1050.0, 859.75, 500.5]\n",
            "vendas2:  [500.0, 710.0, 750.0, 1050.0, 859.75, 500.5, 750.0]\n",
            "vendas2:  [500.0, 710.0, 750.0, 1050.0, 859.75, 500.5, 750.0, 568.6]\n",
            "vendas2:  [500.0, 710.0, 750.0, 1050.0, 859.75, 500.5, 750.0, 568.6, 950.0]\n",
            "vendas2:  [500.0, 710.0, 750.0, 1050.0, 859.75, 500.5, 750.0, 568.6, 950.0, 950.0]\n",
            "vendas1:  [100.0, 258.5, 50.5, 10.0, 199.05, 89.9]\n",
            "vendas2:  [500.0, 710.0, 750.0, 1050.0, 859.75, 500.5, 750.0, 568.6, 950.0, 950.0, 2500.0]\n",
            "vendas2:  [500.0, 710.0, 750.0, 1050.0, 859.75, 500.5, 750.0, 568.6, 950.0, 950.0, 2500.0, 1750.0]\n",
            "vendas2:  [500.0, 710.0, 750.0, 1050.0, 859.75, 500.5, 750.0, 568.6, 950.0, 950.0, 2500.0, 1750.0, 500.0]\n"
          ],
          "name": "stdout"
        }
      ]
    },
    {
      "cell_type": "code",
      "metadata": {
        "id": "ZoHQEOGXsjE-",
        "colab_type": "code",
        "colab": {}
      },
      "source": [
        ""
      ],
      "execution_count": null,
      "outputs": []
    }
  ]
}