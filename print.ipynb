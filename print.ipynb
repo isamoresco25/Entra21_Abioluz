{
  "nbformat": 4,
  "nbformat_minor": 0,
  "metadata": {
    "colab": {
      "name": "print.ipynb",
      "provenance": [],
      "collapsed_sections": [],
      "include_colab_link": true
    },
    "kernelspec": {
      "display_name": "Python 3",
      "language": "python",
      "name": "python3"
    },
    "language_info": {
      "codemirror_mode": {
        "name": "ipython",
        "version": 3
      },
      "file_extension": ".py",
      "mimetype": "text/x-python",
      "name": "python",
      "nbconvert_exporter": "python",
      "pygments_lexer": "ipython3",
      "version": "3.7.3"
    }
  },
  "cells": [
    {
      "cell_type": "markdown",
      "metadata": {
        "id": "view-in-github",
        "colab_type": "text"
      },
      "source": [
        "<a href=\"https://colab.research.google.com/github/isamoresco25/Entra21_Abioluz/blob/master/print.ipynb\" target=\"_parent\"><img src=\"https://colab.research.google.com/assets/colab-badge.svg\" alt=\"Open In Colab\"/></a>"
      ]
    },
    {
      "cell_type": "markdown",
      "metadata": {
        "colab_type": "text",
        "id": "bmvLG6WPxIsj"
      },
      "source": [
        "\n",
        "\n",
        "---\n",
        "\n",
        "\n",
        "<h1><b><center>Uso do print()</center></b></h1>\n",
        "\n",
        "\n",
        "---\n",
        "\n"
      ]
    },
    {
      "cell_type": "markdown",
      "metadata": {
        "id": "HJo8FwfVaNRO",
        "colab_type": "text"
      },
      "source": [
        "A função print() mostra na tela uma mensagem ou o valor das variáveis.<br>\n",
        "Assim é só colocar uma variavel dentro do print() ou uma string (texto) desta forma:"
      ]
    },
    {
      "cell_type": "code",
      "metadata": {
        "id": "j1wvOudwaNRR",
        "colab_type": "code",
        "colab": {},
        "outputId": "79efcd81-37fd-499f-91e8-ebfdbc9f7a77"
      },
      "source": [
        "# Com um uma string (texto)\n",
        "print(\"Sejam bem vindos ao nosso sistema de cadastro de pessoas\")\n",
        "# lembrando que as string devem ser representadas com aspas simples '' ou duplas \"\"\n",
        "\n",
        "\n",
        "# Podemos usar caracteres de escape para pular uma linha\n",
        "print(\"\\n\")\n",
        "\n",
        "# Com uma variável\n",
        "nome = 'Julio'\n",
        "print(\"Seja bem vindo \", nome)\n",
        "\n",
        "print(\"\\n\")\n",
        "\n",
        "# Pode ser colocado uma operação matemática dentro dela\n",
        "print(\"A soma de 1+2 é: \", 1+2)\n",
        "\n",
        "\n",
        "print(\"\\n\")\n",
        "\n",
        "# Ou até fazer esta operação usando variaveis\n",
        "valor = 5.50\n",
        "quantidade = 10\n",
        "print(\"Preço total é: \",valor*quantidade)\n",
        "\n",
        "print(\"\\n\")\n",
        "\n",
        "# Porém o melhor mesmo é fazer desta forma:\n",
        "valor = 5.50\n",
        "quantidade = 10\n",
        "total = valor*quantidade\n",
        "print(\"Preço total é: \",total)\n",
        "\n",
        "print(\"\\n\")\n",
        "\n",
        "# Para mostrar um texto com mais linhas, podemos usar as 3 aspas \"\"\" \"\"\" desta forma:\n",
        "print(\"\"\"\n",
        "Oi\n",
        "Meu nome\n",
        "é\n",
        "Pedro\n",
        "\"\"\")"
      ],
      "execution_count": null,
      "outputs": [
        {
          "output_type": "stream",
          "text": [
            "Sejam bem vindos ao nosso sistema de cadastro de pessoas\n",
            "\n",
            "\n",
            "Seja bem vindo  Julio\n",
            "\n",
            "\n",
            "A soma de 1+2 é:  3\n",
            "\n",
            "\n",
            "Preço total é:  55.0\n",
            "\n",
            "\n",
            "Preço total é:  55.0\n",
            "\n",
            "\n",
            "\n",
            "Oi\n",
            "Meu nome\n",
            "é\n",
            "Pedro\n",
            "\n"
          ],
          "name": "stdout"
        }
      ]
    },
    {
      "cell_type": "markdown",
      "metadata": {
        "colab_type": "text",
        "id": "rCR6FuXyvS26"
      },
      "source": [
        "<h1><b>Exercicio 1</b></h1>\n",
        "\n",
        "Imprima seu nome completo e idade cada um em uma nova linha "
      ]
    },
    {
      "cell_type": "code",
      "metadata": {
        "colab_type": "code",
        "id": "JBZDvTNHvQTp",
        "colab": {}
      },
      "source": [
        "print(\"digite seu nome completo: \")\n",
        "nome= input()\n",
        "print(\"Seu nome completo é\", nome)\n",
        "\n"
      ],
      "execution_count": null,
      "outputs": []
    },
    {
      "cell_type": "markdown",
      "metadata": {
        "colab_type": "text",
        "id": "xcqnCVapv3sU"
      },
      "source": [
        "<h1><b>Exercicio 2</b></h1>\n",
        "\n",
        "Imprima o menu de uma aplicação de cadastro de pessoas\n",
        "\n",
        "O menu deve conter as opções de Cadastrar, Alterar, listar pessoas, alem da opção sair"
      ]
    },
    {
      "cell_type": "code",
      "metadata": {
        "colab_type": "code",
        "id": "oKyMrtXGvSlB",
        "colab": {}
      },
      "source": [
        ""
      ],
      "execution_count": null,
      "outputs": []
    },
    {
      "cell_type": "markdown",
      "metadata": {
        "id": "tzfvOItHaNSN",
        "colab_type": "text"
      },
      "source": [
        "<h1><b>Exercicio 3</b></h1>\n",
        "\n",
        "Crie 3 variáveis\n",
        "\n",
        "Cada variável deve conter um número\n",
        "\n",
        "Imprima na tela a soma dos 3 números"
      ]
    },
    {
      "cell_type": "code",
      "metadata": {
        "id": "TgTU_UwDaNST",
        "colab_type": "code",
        "colab": {}
      },
      "source": [
        ""
      ],
      "execution_count": null,
      "outputs": []
    },
    {
      "cell_type": "markdown",
      "metadata": {
        "id": "8UMVKRoPaNSf",
        "colab_type": "text"
      },
      "source": [
        "<h1><b>Exercicio 4</b></h1>\n",
        "\n",
        "Imprima na tela uma mensagem de boas vindas"
      ]
    },
    {
      "cell_type": "code",
      "metadata": {
        "id": "G0bgvJlFaNSk",
        "colab_type": "code",
        "colab": {}
      },
      "source": [
        ""
      ],
      "execution_count": null,
      "outputs": []
    }
  ]
}