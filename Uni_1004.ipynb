{
  "nbformat": 4,
  "nbformat_minor": 0,
  "metadata": {
    "colab": {
      "name": "Untitled20.ipynb",
      "provenance": [],
      "authorship_tag": "ABX9TyNdGcAjaZ7j9tNFTWFZGU1+",
      "include_colab_link": true
    },
    "kernelspec": {
      "name": "python3",
      "display_name": "Python 3"
    }
  },
  "cells": [
    {
      "cell_type": "markdown",
      "metadata": {
        "id": "view-in-github",
        "colab_type": "text"
      },
      "source": [
        "<a href=\"https://colab.research.google.com/github/isamoresco25/Entra21_Isadora/blob/master/Uni_1004.ipynb\" target=\"_parent\"><img src=\"https://colab.research.google.com/assets/colab-badge.svg\" alt=\"Open In Colab\"/></a>"
      ]
    },
    {
      "cell_type": "code",
      "metadata": {
        "id": "W1IwTK5XXUge",
        "colab_type": "code",
        "colab": {}
      },
      "source": [
        "valor1=int(input())\n",
        "valor2=int(input())\n",
        "PROD=valor1*valor2\n",
        "print('PROD=', PROD)"
      ],
      "execution_count": null,
      "outputs": []
    }
  ]
}