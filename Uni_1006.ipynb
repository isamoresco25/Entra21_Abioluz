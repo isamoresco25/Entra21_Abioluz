{
  "nbformat": 4,
  "nbformat_minor": 0,
  "metadata": {
    "colab": {
      "name": "Untitled22.ipynb",
      "provenance": [],
      "authorship_tag": "ABX9TyNO/cwvGohXBDa7t1ek3xxi",
      "include_colab_link": true
    },
    "kernelspec": {
      "name": "python3",
      "display_name": "Python 3"
    }
  },
  "cells": [
    {
      "cell_type": "markdown",
      "metadata": {
        "id": "view-in-github",
        "colab_type": "text"
      },
      "source": [
        "<a href=\"https://colab.research.google.com/github/isamoresco25/Entra21_Isadora/blob/master/Uni_1006.ipynb\" target=\"_parent\"><img src=\"https://colab.research.google.com/assets/colab-badge.svg\" alt=\"Open In Colab\"/></a>"
      ]
    },
    {
      "cell_type": "code",
      "metadata": {
        "id": "Bz0BttxAcF3r",
        "colab_type": "code",
        "colab": {
          "base_uri": "https://localhost:8080/",
          "height": 90
        },
        "outputId": "349a4991-f467-47a2-ef5a-c350e0c58f8a"
      },
      "source": [
        "A=int(input())\n",
        "B=int(input())\n",
        "C=int(input())\n",
        "MEDIA=(((A*2)+(B*3)+(C*5))/10)\n",
        "print('MEDIA = ', MEDIA)"
      ],
      "execution_count": 4,
      "outputs": [
        {
          "output_type": "stream",
          "text": [
            "6\n",
            "7\n",
            "8\n",
            "MEDIA =  7.3\n"
          ],
          "name": "stdout"
        }
      ]
    }
  ]
}