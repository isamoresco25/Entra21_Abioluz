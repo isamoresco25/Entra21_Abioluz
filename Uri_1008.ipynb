{
  "nbformat": 4,
  "nbformat_minor": 0,
  "metadata": {
    "colab": {
      "name": "Untitled22.ipynb",
      "provenance": [],
      "authorship_tag": "ABX9TyOND4qDRwakyiHcz5LFipMl",
      "include_colab_link": true
    },
    "kernelspec": {
      "name": "python3",
      "display_name": "Python 3"
    }
  },
  "cells": [
    {
      "cell_type": "markdown",
      "metadata": {
        "id": "view-in-github",
        "colab_type": "text"
      },
      "source": [
        "<a href=\"https://colab.research.google.com/github/isamoresco25/Entra21_Isadora/blob/master/Uni_1008.ipynb\" target=\"_parent\"><img src=\"https://colab.research.google.com/assets/colab-badge.svg\" alt=\"Open In Colab\"/></a>"
      ]
    },
    {
      "cell_type": "code",
      "metadata": {
        "id": "B5yu29DRf3v1",
        "colab_type": "code",
        "colab": {}
      },
      "source": [
        "numero=int(input())\n",
        "horas=int(input())\n",
        "valor=float(input())\n",
        "salario=horas*valor\n",
        "print('NUMBER = ',numero)\n",
        "print('SALARY = U$ ', salario)\n"
      ],
      "execution_count": null,
      "outputs": []
    }
  ]
}
