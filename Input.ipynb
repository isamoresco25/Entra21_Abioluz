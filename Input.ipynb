{
  "nbformat": 4,
  "nbformat_minor": 0,
  "metadata": {
    "colab": {
      "name": "input.ipynb",
      "provenance": [],
      "collapsed_sections": [],
      "include_colab_link": true
    },
    "kernelspec": {
      "display_name": "Python 3",
      "language": "python",
      "name": "python3"
    },
    "language_info": {
      "codemirror_mode": {
        "name": "ipython",
        "version": 3
      },
      "file_extension": ".py",
      "mimetype": "text/x-python",
      "name": "python",
      "nbconvert_exporter": "python",
      "pygments_lexer": "ipython3",
      "version": "3.7.3"
    }
  },
  "cells": [
    {
      "cell_type": "markdown",
      "metadata": {
        "id": "view-in-github",
        "colab_type": "text"
      },
      "source": [
        "<a href=\"https://colab.research.google.com/github/isamoresco25/Entra21_Isadora/blob/master/Input.ipynb\" target=\"_parent\"><img src=\"https://colab.research.google.com/assets/colab-badge.svg\" alt=\"Open In Colab\"/></a>"
      ]
    },
    {
      "cell_type": "markdown",
      "metadata": {
        "id": "CLNrKQw4WU6t"
      },
      "source": [
        "\n",
        "\n",
        "---\n",
        "\n",
        "\n",
        "<h1><b><center>Uso do input()</center></b></h1>\n",
        "\n",
        "\n",
        "---\n",
        "\n"
      ]
    },
    {
      "cell_type": "markdown",
      "metadata": {
        "id": "ta3Z6ETnWU6x"
      },
      "source": [
        "A função input() serve para receber um valor pelo teclado.<br>\n",
        "Ele poder mostrar uma mensagem para o usuário.<br>\n",
        "Não se esqueça de usar uma variável para guardar o valor que o usuário digitou."
      ]
    },
    {
      "cell_type": "code",
      "metadata": {
        "id": "08YH5ojSWU6z"
      },
      "source": [
        "# Solicitando um nome para o usuário\n",
        "\n",
        "nome = input(\"Digite o seu nome: \")\n",
        "\n",
        "# É importante sempre ter uma variável para receber o valor do input(), caso contrário o valor será perdido!\n",
        "# Como salvamos o que o usuário escreveu, fica fácil trabalhar com a variável...\n",
        "\n",
        "print(\"Olá \", nome)\n"
      ],
      "execution_count": null,
      "outputs": []
    },
    {
      "cell_type": "markdown",
      "metadata": {
        "id": "fpmr5X_oWU69"
      },
      "source": [
        "<h1><b>Exercicio 5</b></h1>\n",
        "\n",
        "Faça um programa que peça o nome do cliente e depois mostre uma mensagem de boas vindas.\n"
      ]
    },
    {
      "cell_type": "code",
      "metadata": {
        "id": "iU9TsHV2WU6_"
      },
      "source": [
        ""
      ],
      "execution_count": null,
      "outputs": []
    },
    {
      "cell_type": "markdown",
      "metadata": {
        "id": "xJw0Qgx7WU7H"
      },
      "source": [
        "<h1><b>Exercicio 6</b></h1>\n",
        "\n",
        "Escreva um programa que peça o nome e a idade do cliente.\n",
        "\n",
        "Depois mostre uma mensagem com o nome e a idade do cliente dando boas vindas."
      ]
    },
    {
      "cell_type": "code",
      "metadata": {
        "id": "FU1XqUCCWU7K"
      },
      "source": [
        ""
      ],
      "execution_count": null,
      "outputs": []
    },
    {
      "cell_type": "markdown",
      "metadata": {
        "id": "5ywCm_CmWU7X"
      },
      "source": [
        "<h1><b>Exercicio 7</b></h1>\n",
        "Escreva um programa que peça o nome e o sobrenome do cliente e mostre na tela um em cada linha.\n"
      ]
    },
    {
      "cell_type": "code",
      "metadata": {
        "id": "vaZZn63zWU7Z"
      },
      "source": [
        ""
      ],
      "execution_count": null,
      "outputs": []
    }
  ]
}