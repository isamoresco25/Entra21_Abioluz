{
  "nbformat": 4,
  "nbformat_minor": 0,
  "metadata": {
    "kernelspec": {
      "display_name": "Python 3",
      "language": "python",
      "name": "python3"
    },
    "language_info": {
      "codemirror_mode": {
        "name": "ipython",
        "version": 3
      },
      "file_extension": ".py",
      "mimetype": "text/x-python",
      "name": "python",
      "nbconvert_exporter": "python",
      "pygments_lexer": "ipython3",
      "version": "3.7.3"
    },
    "colab": {
      "name": "Aula 05.ipynb",
      "provenance": [],
      "include_colab_link": true
    }
  },
  "cells": [
    {
      "cell_type": "markdown",
      "metadata": {
        "id": "view-in-github",
        "colab_type": "text"
      },
      "source": [
        "<a href=\"https://colab.research.google.com/github/isamoresco25/Entra21_Isadora/blob/master/Aula_05.ipynb\" target=\"_parent\"><img src=\"https://colab.research.google.com/assets/colab-badge.svg\" alt=\"Open In Colab\"/></a>"
      ]
    },
    {
      "cell_type": "markdown",
      "metadata": {
        "id": "eoxfLTHRtW-T"
      },
      "source": [
        "---\n",
        "\n",
        "<h1><center>Variáveis Boobleans</h1></center>\n",
        "\n",
        "---"
      ]
    },
    {
      "cell_type": "markdown",
      "metadata": {
        "id": "plmSIHoYtW-_"
      },
      "source": [
        "Variáveis booleanas possuem 2 valores válidos<br>\n",
        "True (verdadeiro) e False (falso)\n",
        "\n",
        "O valor True pode ser substituido pelo valor 1<br>\n",
        "enquanto o False pode ser substituido pelo valor 0\n"
      ]
    },
    {
      "cell_type": "code",
      "metadata": {
        "id": "IWlmIuogtW_H"
      },
      "source": [
        "# Exemplo de variável booleana\n",
        "\n",
        "entrada = True\n",
        "\n",
        "saida = False\n",
        "\n",
        "dineiro_banco = True\n",
        "\n",
        "saldavel = True"
      ],
      "execution_count": null,
      "outputs": []
    },
    {
      "cell_type": "markdown",
      "metadata": {
        "id": "ij0GJSE2tW_v"
      },
      "source": [
        "Para fazer a conversão para booleano é utilizado a funão bool()"
      ]
    },
    {
      "cell_type": "code",
      "metadata": {
        "id": "EQUqyPOMtW_z"
      },
      "source": [
        "# Convertendo numero 1 para booleano\n",
        "var = 1\n",
        "var = bool(var)\n",
        "print(var)\n",
        "\n",
        "print(\"\\n\")\n",
        "\n",
        "# Convertendo numero 0 para booleano\n",
        "var = 0\n",
        "var = bool(var)\n",
        "print(var)"
      ],
      "execution_count": null,
      "outputs": []
    },
    {
      "cell_type": "markdown",
      "metadata": {
        "id": "JOw649lGtXAB"
      },
      "source": [
        "Interesante é a conversão de variáveis para o booleano.<br>\n",
        "Variáveis None ou vazias resultam e False<br>\n",
        "enquanto variáveis com algum valor apresentam valor True"
      ]
    },
    {
      "cell_type": "code",
      "metadata": {
        "id": "0C5b7JYmtXAE"
      },
      "source": [
        "# Criando variáveis vazias\n",
        "inteiro = 0\n",
        "real = 0.0\n",
        "texto = \"\"\n",
        "\n",
        "\n",
        "print(type(inteiro),bool(inteiro))\n",
        "print(type(real),bool(real))\n",
        "print(type(texto),bool(texto))\n",
        "\n",
        "print(\"\\n\")\n",
        "\n",
        "# O None é um valor nulo. Não tem tipo e muito menos valor\n",
        "nulo = None\n",
        "\n",
        "print(type(nulo),bool(nulo))\n",
        "\n",
        "print(\"\\n\")\n",
        "\n",
        "# Convertendo variáveis com valor\n",
        "inteiro = 10\n",
        "real = -5.0\n",
        "texto = \"0\"\n",
        "\n",
        "\n",
        "print(type(inteiro),bool(inteiro))\n",
        "print(type(real),bool(real))\n",
        "print(type(texto),bool(texto))"
      ],
      "execution_count": null,
      "outputs": []
    },
    {
      "cell_type": "markdown",
      "metadata": {
        "id": "CpuetNE8tXAQ"
      },
      "source": [
        "---\n",
        "\n",
        "<h1><center>Operadores de comparação</h1></center>\n",
        "\n",
        "---"
      ]
    },
    {
      "cell_type": "markdown",
      "metadata": {
        "id": "AlHg1amBtXAd"
      },
      "source": [
        "Os operadores comparam 2 variávei e retornam True ou False.<br>\n",
        "Eles são muito usados no laço condicional para determinar qual ação deve ser tomada.\n",
        "\n",
        "Existe 6 operadores de comparação:\n",
        "\n",
        "\\>     Maior<br>\n",
        "\\<     Menor<br>\n",
        "\\>\\=   Maior menor<br>\n",
        "\\<\\=   Menor igual<br>\n",
        "\\=\\=   igual (são 2 sinais de iguais)<br>\n",
        "\\!\\=   Difierente<br>\n",
        "\n",
        "Cuidado com o sinal de igual. É muito comum haver a confusão.<br>\n",
        "1 sial de igual é atribuição de valor para uma vairável.<br>\n",
        "Ex:<br>\n",
        "valor = 10\n",
        "\n",
        "\n",
        "2 siais de igual é a comparação se os 2 valores são iguais!<br>\n",
        "10 == 10 <br>\n",
        "True\n"
      ]
    },
    {
      "cell_type": "code",
      "metadata": {
        "id": "PZA3iYYAtXAg"
      },
      "source": [
        "# Exemplo de uso:\n",
        "\n",
        "numero = 10\n",
        "valor = 10\n",
        "dinheiro = 15\n",
        "nota = 9\n",
        "\n",
        "# Maior - Verifica se a primeira variável é maior que a segunda. \n",
        "print(\"Maior >\")\n",
        "print(\"nota (9) > valor (10)? \",nota > valor)\n",
        "print(\"valor (10) > nota (9)? \", valor > nota)\n",
        "print(\"numero (10) > valor (10)? \", numero > valor) # Note que 10 não é maior que 10 por isso será falso.\n",
        "\n",
        "print('\\n')\n",
        "\n",
        "# Maior igual - Verifica se a primeira variável é maior ou igual que a segunda. \n",
        "print(\"Maior igual >=\")\n",
        "print(\"nota (9) >= valor (10)? \",nota >= valor)\n",
        "print(\"valor (10) >= nota (9)? \", valor >= nota)\n",
        "print(\"numero (10) >= valor (10)? \", numero >= valor) # Note que agora o resultado é True.\n",
        "\n",
        "print('\\n')\n",
        "\n",
        "# Menor - Verifica se a primeira variável é menor que a segunda. \n",
        "print(\"Menor <\")\n",
        "print(\"nota (9) < valor (10)? \",nota < valor)\n",
        "print(\"valor (10) < nota (9)? \", valor < nota)\n",
        "print(\"numero (10) < valor (10)? \", numero < valor) # Note que 10 não é menor que 10 por isso será falso.\n",
        "\n",
        "print('\\n')\n",
        "\n",
        "# Menor igual - Verifica se a primeira variável é menor ou igual que a segunda. \n",
        "print(\"Menor igual <=\")\n",
        "print(\"nota (9) <= valor (10)? \",nota <= valor)\n",
        "print(\"valor (10) <= nota (9)? \", valor <= nota)\n",
        "print(\"numero (10) <= valor (10)? \", numero <= valor) # Note que agora o resultado é True.\n",
        "\n",
        "print('\\n')\n",
        "\n",
        "# Igual - Verifica se a primeira variável é igual à segunda. \n",
        "print(\"Igual ==\")\n",
        "print(\"nota (9) == valor (10)? \",nota == valor)\n",
        "print(\"valor (10) == nota (9)? \", valor == nota)\n",
        "print(\"numero (10) == valor (10)? \", numero == valor)\n",
        "\n",
        "print('\\n')\n",
        "\n",
        "# Diferente - Verifica se a primeira variável é diferente que a segunda. \n",
        "print(\"Diferente !=\")\n",
        "print(\"nota (9) != valor (10)? \",nota != valor)\n",
        "print(\"valor (10) != nota (9)? \", valor != nota)\n",
        "print(\"numero (10)!= valor (10)? \", numero != valor)\n",
        "\n",
        "print('\\n')\n"
      ],
      "execution_count": null,
      "outputs": []
    },
    {
      "cell_type": "markdown",
      "metadata": {
        "id": "6itbdfW3tXAv"
      },
      "source": [
        "Como saber a diferença ente maior e menor?\n",
        "\n",
        "É simples procure um 4 ou 7, olha só:\n",
        "\n",
        "Maior > é parecido com o número 7\n",
        "\n",
        "Menor < é parecido com o número 4"
      ]
    },
    {
      "cell_type": "markdown",
      "metadata": {
        "id": "o_VCDeLEtXAy"
      },
      "source": [
        "---\n",
        "\n",
        "<h1><center>Laço condicional 1</h1></center>\n",
        "\n",
        "---\n",
        "Controle de Fluxo ou Estrutura de Decisão"
      ]
    },
    {
      "cell_type": "markdown",
      "metadata": {
        "id": "kZ0FPXYutXA5"
      },
      "source": [
        "O controle de fluxo serve para orientar o programa a executar um código especifico dependendo da condição.\n",
        "\n",
        "No Python existe só um (if), sendo assim muito mais simples de se trabalhar.\n",
        "\n",
        "O \"if\" pode ser tradusido como \"se\"<br>\n",
        "se for menor que 10 anos deve usar cadeirinha.<br>\n",
        "se bebeu, não dirija.\n",
        "\n",
        "O if terá a seguinte estrutura:<br>\n",
        "\n",
        "if <condição>:<br>\n",
        "....<ação se for verdadeiro><br>\n",
        "else:<br>\n",
        "....<ação se for falso>\n",
        "\n",
        "\n",
        "Os quatro pontinhos significa a identação. Ela é importante para determiar até aonde vai o código dentro do if.<br>\n",
        "Se você sair desta identação o python irá entender que o if terminou.\n",
        "\n",
        "O else irá executar somente se a <condição> for falsa. Só pode ter um else em cada if!\n"
      ]
    },
    {
      "cell_type": "code",
      "metadata": {
        "id": "8OhMWfostXA8"
      },
      "source": [
        "#Exemplo 1:\n",
        "\n",
        "# Faça um programa que peça 1 número e se este for maior que 10 mostre uma mensagem \"Numero maior que 10\",\n",
        "# se for menor que 10 apareça a mensagem \"Numero menor que 10\"\n",
        "\n",
        "numero = int(input(\"Digite um número: \"))\n",
        "\n",
        "if numero > 10: # Note que usamos os operadores de comparação para determinar a condição.\n",
        "    print(\"Numero maior que 10\") # Os quatro espaços da identação\n",
        "else: # este else só irá execurar se o número for menor.\n",
        "    print(\"Numero menor que 10\")\n",
        "\n",
        "print(\"Não estou identado enão estou fora do if!\")"
      ],
      "execution_count": null,
      "outputs": []
    },
    {
      "cell_type": "code",
      "metadata": {
        "id": "kdjUu2HhtXBN"
      },
      "source": [
        "# Exemplo 2:\n",
        "# Crie um programa que pessa uma senha para o usuário\n",
        "# A senha deve ser AbrAcAdAbrA\n",
        "# Se a senha for correta deve aparecer a mensagem: \"Seja bem vindo\"\n",
        "# Se a senha for falsa, deve aparecer a mensagem: \"Senha incorreta!\"\n",
        "\n",
        "senha_secreta = \"AbrAcAdAbrA\"\n",
        "\n",
        "senha = input(\"Digite a sua senha: \")\n",
        "\n",
        "if senha_secreta == senha:\n",
        "    print(\"Seja bem vindo\")\n",
        "else:\n",
        "    print(\"Senha incorreta!\")"
      ],
      "execution_count": null,
      "outputs": []
    },
    {
      "cell_type": "code",
      "metadata": {
        "id": "uiCZ4FHOtXBq"
      },
      "source": [
        "# Exemplo 3:\n",
        "# Crie um programa que calcule a função \"f = 3/x\"\n",
        "# Peça ao usuário que digite o valor de x\n",
        "# Se o valor de x for igual a zero, o programa mostrará somente a mensagem final.\n",
        "# Se x for diferente que zero, o programa fará a conta e mostrará o resultado.\n",
        "\n",
        "x = int(input(\"Digite o valor de x: \"))\n",
        "\n",
        "if x != 0:\n",
        "    f = 3/x\n",
        "    print(\"O resultado é: \", f)\n",
        "\n",
        "    # Note que não possui else. Nem sempre o else é necessário.\n",
        "\n",
        "print(\"Fim do programa\") # note que neste print não tem identação. Então ele não faz parte do input\n",
        "\n",
        "\n"
      ],
      "execution_count": null,
      "outputs": []
    },
    {
      "cell_type": "markdown",
      "metadata": {
        "id": "e7wL-psvtXCF"
      },
      "source": [
        "<h1><b>Exercicio 1</b></h1>\n",
        "\n",
        "Faça um programa que peça 2 numeros inteiros e mostre o maior deles.\n",
        "\n"
      ]
    },
    {
      "cell_type": "code",
      "metadata": {
        "id": "5i8eAuVZtXCX",
        "outputId": "234f7e34-6af6-42d0-e5d6-bbcade213c6a",
        "colab": {
          "base_uri": "https://localhost:8080/",
          "height": 101
        }
      },
      "source": [
        "print(\"digite um numero\")\n",
        "numero1= input()\n",
        "numero1= int(numero1)\n",
        "print(\"digite numero2\")\n",
        "numero2= input()\n",
        "numero2= int(numero2)\n",
        "if numero1>numero2:\n",
        "  print(\"numero maior\", numero1)\n",
        "else:\n",
        "    print(\"numero maior\", numero2)\n"
      ],
      "execution_count": null,
      "outputs": [
        {
          "output_type": "stream",
          "text": [
            "digite um numero\n",
            "4\n",
            "digite numero2\n",
            "5\n",
            "numero maior 5\n"
          ],
          "name": "stdout"
        }
      ]
    },
    {
      "cell_type": "markdown",
      "metadata": {
        "id": "HNo2lWdMtXCx"
      },
      "source": [
        "<h1><b>Exercicio 2</b></h1>\n",
        "Faça um programa que peça um número.\n",
        "\n",
        "Mostre na tela se este número é negativo ou positivo. (lembrando que números positivos são maiores que zero!)"
      ]
    },
    {
      "cell_type": "code",
      "metadata": {
        "id": "cAsWaieltXC2",
        "outputId": "e3913f5d-1bbf-4016-8855-b3379e84e8ef",
        "colab": {
          "base_uri": "https://localhost:8080/",
          "height": 67
        }
      },
      "source": [
        "print(\"digite um numero:\")\n",
        "numero= input()\n",
        "numero= float(numero)\n",
        "if numero>0:\n",
        "  print(\"numero positivo\")\n",
        "else:\n",
        "  print(\"numero negativo\")  \n"
      ],
      "execution_count": null,
      "outputs": [
        {
          "output_type": "stream",
          "text": [
            "digite um numero:\n",
            "5\n",
            "numero positivo\n"
          ],
          "name": "stdout"
        }
      ]
    },
    {
      "cell_type": "markdown",
      "metadata": {
        "id": "66D397prtXDI"
      },
      "source": [
        "<h1><b>Exercicio 3</b></h1>\n",
        "Faça um programa que peça a idade do cliente.\n",
        "\n",
        "Se ele tiver 18 anos ou mais deve aparecer a mensagem \"Entrada permitida\"\n",
        "\n",
        "Caso contrário deve aparecer a mensagem \"Entrada Negada!\""
      ]
    },
    {
      "cell_type": "code",
      "metadata": {
        "id": "V3Ai3v4gtXDZ",
        "outputId": "2cc65cb6-b8a3-4022-9f4d-7fc2f96e9bcd",
        "colab": {
          "base_uri": "https://localhost:8080/",
          "height": 67
        }
      },
      "source": [
        "print(\"digite sua idade:\")\n",
        "idade= input()\n",
        "idade= int(idade)\n",
        "if idade>18:\n",
        "  print(\"entrada permitida\")\n",
        "else:\n",
        "    print(\"entrada negada\")"
      ],
      "execution_count": null,
      "outputs": [
        {
          "output_type": "stream",
          "text": [
            "digite sua idade:\n",
            "12\n",
            "entrada negada\n"
          ],
          "name": "stdout"
        }
      ]
    },
    {
      "cell_type": "markdown",
      "metadata": {
        "id": "kmyji0RWtXDy"
      },
      "source": [
        "\n",
        "<h1><b>Exercicio 4</b></h1>\n",
        "Escreva um programa que peça a nota de um aluno\n",
        "\n",
        "Se a nota for 7 ou mais deve aparecer a mensagem: \"Aprovado\"\n",
        "\n",
        "Caso contrário deve aparecer a mensagem: \"Reprovado\""
      ]
    },
    {
      "cell_type": "code",
      "metadata": {
        "id": "1FHBZyW6tXD1",
        "outputId": "aaaadcca-4e0d-4a55-9726-ca3abd70a7c9",
        "colab": {
          "base_uri": "https://localhost:8080/",
          "height": 67
        }
      },
      "source": [
        "print(\"digite sua nota:\")\n",
        "nota= input()\n",
        "nota= float(nota)\n",
        "if nota>7:\n",
        "  print(\"Aprovado\")\n",
        "else:\n",
        "  print(\"Reprovado\")"
      ],
      "execution_count": null,
      "outputs": [
        {
          "output_type": "stream",
          "text": [
            "digite sua nota:\n",
            "8\n",
            "Aprovado\n"
          ],
          "name": "stdout"
        }
      ]
    },
    {
      "cell_type": "markdown",
      "metadata": {
        "id": "wvC_PnHDtXEK"
      },
      "source": [
        "<h1><b>Exercicio 5</b></h1>\n",
        "Faça um programa que peça uma senha ao usuário.\n",
        "\n",
        "Se a senha for igual a \"Abacaxi\" deve aparecer a mensagem \"Entrada liberada\"\n",
        "\n",
        "Caso contrário deve aparecer a mensagem \"Senha incorreta\""
      ]
    },
    {
      "cell_type": "code",
      "metadata": {
        "id": "M2epqdd4tXEM",
        "outputId": "24776d1f-a11f-4930-bab5-57ff3a2d2295",
        "colab": {
          "base_uri": "https://localhost:8080/",
          "height": 68
        }
      },
      "source": [
        "print('digite sua senha')\n",
        "senha= input()\n",
        "senha_secreta= \"Abacaxi\"\n",
        "if senha== senha_secreta:\n",
        "  print(\"entrada liberada\")\n",
        "else:\n",
        "  print(\"Senha incorreta\")"
      ],
      "execution_count": null,
      "outputs": [
        {
          "output_type": "stream",
          "text": [
            "digite sua senha\n",
            "Abacaxi\n",
            "entrada liberada\n"
          ],
          "name": "stdout"
        }
      ]
    },
    {
      "cell_type": "markdown",
      "metadata": {
        "id": "6Wn8fbK6tXEX"
      },
      "source": [
        "<h1><b>Exercicio 6</b></h1>\n",
        "Escreva um programa que peça 2 números e mostre eles em ordem crescente"
      ]
    },
    {
      "cell_type": "code",
      "metadata": {
        "id": "mk9SnkLMtXEh",
        "outputId": "a47cc3e5-f978-4be3-cbd2-349cb6c910ef",
        "colab": {
          "base_uri": "https://localhost:8080/",
          "height": 102
        }
      },
      "source": [
        "print(\"digite numero1\")\n",
        "numero1= input()\n",
        "print(\"digite numero2\")\n",
        "numero2= input()\n",
        "if numero1>numero2:\n",
        "  print(numero2, numero1)\n",
        "else:\n",
        "  print(numero1, numero2)"
      ],
      "execution_count": null,
      "outputs": [
        {
          "output_type": "stream",
          "text": [
            "digite numero1\n",
            "4\n",
            "digite numero2\n",
            "7\n",
            "4 7\n"
          ],
          "name": "stdout"
        }
      ]
    },
    {
      "cell_type": "markdown",
      "metadata": {
        "id": "6mhPYZ0ptXE3"
      },
      "source": [
        "<h1><b>Exercicio 7</b></h1>\n",
        "Faça um programa que peça 3 números inteiros e mostre o menor número."
      ]
    },
    {
      "cell_type": "code",
      "metadata": {
        "id": "3ocn67vktXE5",
        "outputId": "c8feb3cd-2930-4544-9023-aa2a6e006642",
        "colab": {
          "base_uri": "https://localhost:8080/",
          "height": 85
        }
      },
      "source": [
        "\n",
        "numero1= int(input(\"numero1: \"))\n",
        "numero2= int(input(\"numero2: \"))\n",
        "numero3= int(input(\"numero3: \"))\n",
        "if (numero1<numero2) and (numero1<numero3):\n",
        "  print(numero1)\n",
        "if (numero2<numero3) and (numero2<numero1):\n",
        "  print(numero2)\n",
        "if (numero3<numero1) and (numero3<numero2):\n",
        "  print(numero3)\n"
      ],
      "execution_count": null,
      "outputs": [
        {
          "output_type": "stream",
          "text": [
            "numero1: 3\n",
            "numero2: 5\n",
            "numero3: 7\n",
            "3\n"
          ],
          "name": "stdout"
        }
      ]
    },
    {
      "cell_type": "markdown",
      "metadata": {
        "id": "EQIVbldetXFG"
      },
      "source": [
        "<h1><b>Exercicio 8</b></h1>\n",
        "Faça um programa que peça 3 números inteiros e mostre o número maior."
      ]
    },
    {
      "cell_type": "code",
      "metadata": {
        "id": "czNsbIV3tXFJ",
        "outputId": "1e21cdee-60e5-4183-8a3b-fd5b86d3a4e6",
        "colab": {
          "base_uri": "https://localhost:8080/",
          "height": 85
        }
      },
      "source": [
        "numero1= int(input(\"numero1: \"))\n",
        "numero2= int(input(\"numero2: \"))\n",
        "numero3= int(input(\"numero3: \"))\n",
        "if (numero1>numero2) and (numero1>numero3):\n",
        "  print(numero1)\n",
        "if (numero2>numero3) and (numero2>numero1):\n",
        "  print(numero2)\n",
        "if (numero3>numero1) and (numero3>numero2):\n",
        "  print(numero3)"
      ],
      "execution_count": null,
      "outputs": [
        {
          "output_type": "stream",
          "text": [
            "numero1: 3\n",
            "numero2: 5\n",
            "numero3: 7\n",
            "7\n"
          ],
          "name": "stdout"
        }
      ]
    },
    {
      "cell_type": "markdown",
      "metadata": {
        "id": "Db55payJtXFX"
      },
      "source": [
        "<h1><b>Exercicio 9</b></h1>\n",
        "Faça um programa que peça 3 números inteiros e mostre o os tês em ordem crescente.\n",
        "\n"
      ]
    },
    {
      "cell_type": "code",
      "metadata": {
        "id": "21AGx4HotXFf",
        "outputId": "8b17e7f8-3435-4944-ea8c-468b9b542e76",
        "colab": {
          "base_uri": "https://localhost:8080/",
          "height": 85
        }
      },
      "source": [
        "numero1= int(input(\"numero1: \"))\n",
        "numero2= int(input(\"numero2: \"))\n",
        "numero3= int(input(\"numero3: \"))\n",
        "if (numero1<numero2) and (numero2<numero3):\n",
        "  print(numero1, numero2, numero3)\n",
        "if (numero2<numero1) and (numero1<numero3):\n",
        "  print(numero2, numero1, numero3)\n",
        "if (numero3<numero2) and (numero2<numero1):\n",
        "  print(numero3, numero2, numero1)\n",
        "if (numero1<numero2) and (numero3<numero2):\n",
        "  print(numero1, numero3, numero2)\n",
        "if (numero2<numero1) and (numero1>numero3):\n",
        "  print(numero2, numero3, numero1)\n",
        "if (numero3<numero2) and (numero2<numero1):\n",
        "  print(numero3, numero1, numero2)\n"
      ],
      "execution_count": null,
      "outputs": [
        {
          "output_type": "stream",
          "text": [
            "numero1: 4\n",
            "numero2: 2\n",
            "numero3: 8\n",
            "2 4 8\n"
          ],
          "name": "stdout"
        }
      ]
    },
    {
      "cell_type": "markdown",
      "metadata": {
        "id": "rf4wZBvBtXFu"
      },
      "source": [
        "<h1><b>Exercicio 10</b></h1>\n",
        "Faça um programa que peça 3 números inteiros e mostre o os tês em ordem decrescente.\n"
      ]
    },
    {
      "cell_type": "code",
      "metadata": {
        "id": "RZn7S9DJtXFx",
        "outputId": "540745a7-c9b0-4af1-eea3-63a80e7e7bb3",
        "colab": {
          "base_uri": "https://localhost:8080/",
          "height": 85
        }
      },
      "source": [
        "numero1= int(input(\"numero1: \"))\n",
        "numero2= int(input(\"numero2: \"))\n",
        "numero3= int(input(\"numero3: \"))\n",
        "if (numero1<numero2) and (numero2<numero3):\n",
        "  print(numero3, numero2, numero1)\n",
        "if (numero1<numero3) and (numero3<numero2):\n",
        "  print(numero2, numero3, numero1)\n",
        "if (numero2<numero3) and (numero3<numero1):\n",
        "  print(numero1,numero3,numero2)\n",
        "if (numero2<numero1) and (numero1<numero3):\n",
        "  print(numero3, numero1, numero2)\n",
        "if (numero3<numero1) and (numero1<numero2):\n",
        "  print(numero2, numero1, numero3)\n",
        "if (numero3<numero2) and (numero2<numero1):\n",
        "  print(numero1, numero2, numero3)\n",
        "\n"
      ],
      "execution_count": null,
      "outputs": [
        {
          "output_type": "stream",
          "text": [
            "numero1: 1\n",
            "numero2: 2\n",
            "numero3: 3\n",
            "3 2 1\n"
          ],
          "name": "stdout"
        }
      ]
    },
    {
      "cell_type": "markdown",
      "metadata": {
        "id": "rALR1cmotXGB"
      },
      "source": [
        "---\n",
        "\n",
        "<h1><center>Laço condicional 2</h1></center>\n",
        "\n",
        "---\n",
        "Laço condicional aninhado"
      ]
    },
    {
      "cell_type": "markdown",
      "metadata": {
        "id": "3kGXHb0ItXGD"
      },
      "source": [
        "As vezes necesitamos mais condições para o mesmo problema.\n",
        "\n",
        "Para isso existe 1 solução o \"elif\"\n",
        "\n",
        "O elif fica aninhado (dentro) do if e é executado somente se a sua condição for verdadeira.<br>\n",
        "\n",
        "if <condição1>:\n",
        "....<ação>\n",
        "elif <condição2>:\n",
        "....<ação>\n",
        "else:\n",
        "....<ação se falso>\n",
        "\n",
        "Pode se adicionado quantos elif forem necessário dentro do if. Só lembrando que cada if só pode ter um else!\n",
        "\n",
        "if <condição1>:\n",
        "....<ação>\n",
        "elif <condição2>:\n",
        "....<ação>\n",
        "elif <condição3>:\n",
        "....<ação>\n",
        "elif <condição4>:\n",
        "....<ação>\n",
        "else:\n",
        "....<ação se falso>\n"
      ]
    },
    {
      "cell_type": "code",
      "metadata": {
        "id": "BEX1WpSKtXGF"
      },
      "source": [
        "# Exemplo 1:\n",
        "# Faça um programa que peça a classe de embarque de uma compania aéria.\n",
        "# As opções são A, B e C\n",
        "# Se o cliente digitar A deve aparecer a seguinte mendagem: \"Primeira classe, caviar liberado!\"\n",
        "# Se o cliente digitar B deve aparecer a seguinte mendagem: \"Segunda classe, Café e almoço liberado\"\n",
        "# Se o cliente digitar C deve aparecer a seguinte mendagem: \n",
        "# \"Terceira classe, pacotinho de bolacha 10g por pessoa liberado\"\n",
        "# Caso digite qualquer coisa deve aparecer a seguinte mendagem: \"Opção inválida\"\n",
        "\n",
        "passagem = input(\"Digite a classe de embarque A,B ou C?: \")\n",
        "\n",
        "if passagem == \"A\":\n",
        "    print(\"Primeira classe, caviar liberado!\")\n",
        "elif passagem == \"B\":\n",
        "    print(\"Segunda classe, Café e almoço liberado\")\n",
        "elif passagem == \"C\":\n",
        "    print(\"Terceira classe, pacotinho de bolacha 10g por pessoa liberado\")\n",
        "else:\n",
        "    print(\"Opção inválida\")\n",
        "    \n",
        "# Note que ao ser selecionado uma condição o laço condicional termina."
      ],
      "execution_count": null,
      "outputs": []
    },
    {
      "cell_type": "code",
      "metadata": {
        "id": "GbvZMKqHtXGO",
        "outputId": "4a8d061f-8798-4c06-9ef9-0e57bd4a8749"
      },
      "source": [
        "# Exemplo 2:\n",
        "# Faça um menu interativo que possua 3 opções: Prato feito, Fejoada, Macarronada\n",
        "# Peça para o usuário digitar a opção desejada.\n",
        "# Se ele escolher Prato Feito deve aparecer a seguinte mensage: \"1 Prato feito saindo em 15 minutos\"\n",
        "# Se ele escolher Fejoada deve aparecer a seguinte mensage: \"1 Fejoada saindo em 30 minutos\"\n",
        "# Se ele escolher Macarronada deve aparecer a seguinte mensage: \"1 Macarronada saindo em 10 minutos\"\n",
        "\n",
        "mensagem = '''\n",
        "Cardapio do dia:]\n",
        "\n",
        "1) Prato feito\n",
        "2) Fejoada\n",
        "3) Macarronada\n",
        "\n",
        "Digite a opção desejada: '''\n",
        "\n",
        "opcao = input(mensagem)\n",
        "\n",
        "if opcao == '1':\n",
        "    print(\"1 Prato feito saindo em 15 minutos\")\n",
        "elif opcao == '2':\n",
        "    print(\"1 Fejoada saindo em 30 minutos\")\n",
        "elif opcao == '3':\n",
        "    print(\"1 Macarronada saindo em 10 minutos\")\n",
        "else:\n",
        "    print(\"Opção invalida\")"
      ],
      "execution_count": null,
      "outputs": [
        {
          "output_type": "error",
          "ename": "SyntaxError",
          "evalue": "invalid syntax (<ipython-input-13-c6cb41eeaab3>, line 19)",
          "traceback": [
            "\u001b[0;36m  File \u001b[0;32m\"<ipython-input-13-c6cb41eeaab3>\"\u001b[0;36m, line \u001b[0;32m19\u001b[0m\n\u001b[0;31m    if opcao = '1':\u001b[0m\n\u001b[0m             ^\u001b[0m\n\u001b[0;31mSyntaxError\u001b[0m\u001b[0;31m:\u001b[0m invalid syntax\n"
          ]
        }
      ]
    },
    {
      "cell_type": "markdown",
      "metadata": {
        "id": "ChaH8DBMtXGd"
      },
      "source": [
        "<h1><b>Exercicio 11</b></h1>\n",
        "Faça um programa que peça o sexo do cliente. \n",
        "\n",
        "Se o cliente digitar 'F' deve aparecer a mensagem \"Como você está bonita hoje!\"\n",
        "\n",
        "Se o cliente digitar 'M' deve aparecer a mensagem \"Como você está forte? andou malhando?\"\n",
        "\n",
        "Se o cliente digitar qualquer outra coisa, deve aparecer a mensagem: \"opção invalida!\"\n"
      ]
    },
    {
      "cell_type": "code",
      "metadata": {
        "id": "SZAgnt23tXGf",
        "outputId": "4cc7f625-68f8-40e7-b2c9-7ab733e4f83b",
        "colab": {
          "base_uri": "https://localhost:8080/",
          "height": 68
        }
      },
      "source": [
        "sexo= input(\"digite uma letra: \")\n",
        "if sexo== \"F\":\n",
        "  print(\"como voce esta bonita hoje!\")\n",
        "if sexo== \"M\":\n",
        "  print(\"como voce esta forte! Andou malhando?\")\n",
        "else:\n",
        "  print(\"opção inválida!\")\n"
      ],
      "execution_count": null,
      "outputs": [
        {
          "output_type": "stream",
          "text": [
            "digite uma letra: F\n",
            "como voce esta bonita hoje!\n",
            "opção inválida!\n"
          ],
          "name": "stdout"
        }
      ]
    },
    {
      "cell_type": "markdown",
      "metadata": {
        "id": "wrkRrKwGtXG0"
      },
      "source": [
        "<h1><b>Exercicio 12</b></h1>\n",
        "\n",
        "Crie um programa que peça 2 números.\n",
        "\n",
        "Depois mostre um menu interativo contendo 5 operações matemáticas do python\n",
        "<br>(adição, subtração, multiplicação, divisão e expoente)\n",
        "\n",
        "Peça para o usuário escolher uma destas opções e mostre o resultado da operação escolhida."
      ]
    },
    {
      "cell_type": "code",
      "metadata": {
        "id": "bWFuuv8dtXG2",
        "outputId": "bb4e2c2c-fade-4353-d91a-0115f4e20cee",
        "colab": {
          "base_uri": "https://localhost:8080/",
          "height": 204
        }
      },
      "source": [
        "num1= int(input(\"digite um numero: \"))\n",
        "num2= int(input(\"digite numero2: \"))\n",
        "print(\"\"\"\n",
        "1)adicao\n",
        "2)subtracao\n",
        "3)multiplicacao\n",
        "4)divisao\n",
        "5)expoente\n",
        "\"\"\")\n",
        "resposta= int(input(\"escolha uma resposta: \"))\n",
        "if resposta==1:\n",
        "  print(num1+num2)\n",
        "if resposta==2:\n",
        "  print(num1-num2)\n",
        "if resposta==3:\n",
        "  print(num1*num2)\n",
        "if resposta==4:\n",
        "  print(num1/num2)\n",
        "if resposta==5:\n",
        "  print(num1**num2)"
      ],
      "execution_count": null,
      "outputs": [
        {
          "output_type": "stream",
          "text": [
            "digite um numero: 2\n",
            "digite numero2: 2\n",
            "\n",
            "1)adicao\n",
            "2)subtracao\n",
            "3)multiplicacao\n",
            "4)divisao\n",
            "5)expoente\n",
            "\n",
            "escolha uma resposta: 3\n",
            "4\n"
          ],
          "name": "stdout"
        }
      ]
    },
    {
      "cell_type": "markdown",
      "metadata": {
        "id": "0xcn4DfZtXNh"
      },
      "source": [
        "<h1><b>Exercicio 13</b></h1>\n",
        "\n",
        "Crie um programa que peça o nome do cliente, idade, endereço, email e telefone.\n",
        "\n",
        "Depois crie um menu interativo com as seguintes opções: Dados, Endereço, Contato.\n",
        "\n",
        "Se o usuário selecionar \"Dados\" deve aparecer o nome do cliente e a idade\n",
        "\n",
        "Se o usuário selecionar \"Endereço\" deve aparecer o nome do cliente e o endereço\n",
        "\n",
        "Se o usuário selecionar \"Contato\" deve aparecer o nome do cliente, email e o telefone"
      ]
    },
    {
      "cell_type": "code",
      "metadata": {
        "id": "IZs4uUw6tXNl",
        "outputId": "de9eb65f-cdaf-4715-e9a4-71fbb6857fe3",
        "colab": {
          "base_uri": "https://localhost:8080/",
          "height": 221
        }
      },
      "source": [
        "nome= str(input(\"digite seu nome: \"))\n",
        "idade= str(input(\"digite sua idade: \"))\n",
        "email= str(input(\"digite seu email: \"))\n",
        "telefone= str(input(\"digite seu telefone: \"))\n",
        "endereço= str(input(\"digite seu endereco: \"))\n",
        "print(\"\"\"\n",
        "1)Dados\n",
        "2)Endereço\n",
        "3)Contato\n",
        "\"\"\")\n",
        "opcao= int(input(\"digite uma opcao: \"))\n",
        "if opcao==1:\n",
        "  print(nome, idade)\n",
        "if opcao==2:\n",
        "  print(nome, endereco)\n",
        "if opcao==3:\n",
        "  print(email, telefone)\n"
      ],
      "execution_count": null,
      "outputs": [
        {
          "output_type": "stream",
          "text": [
            "digite seu nome: isa\n",
            "digite sua idade: 18\n",
            "digite seu email: isamoresco\n",
            "digite seu telefone: 999999999\n",
            "digite seu endereco: rua bababa\n",
            "\n",
            "1)Dados\n",
            "2)Endereço\n",
            "3)Contato\n",
            "\n",
            "digite uma opcao: 1\n",
            "isa 18\n"
          ],
          "name": "stdout"
        }
      ]
    },
    {
      "cell_type": "markdown",
      "metadata": {
        "id": "-Kb0sYXytXOH"
      },
      "source": [
        "<h1><b>Exercicio 14</b></h1>\n",
        "Crie um programa que peça ao usuário digitar um número de 1 a 7 e mostre o dia da semana correspondente sendo que segunda feira é o numero 1 e domingo é 7."
      ]
    },
    {
      "cell_type": "code",
      "metadata": {
        "id": "3050Q7M4tXOM",
        "outputId": "cc8443d9-d5f8-4f91-9c0c-b381aae9c0d2",
        "colab": {
          "base_uri": "https://localhost:8080/",
          "height": 51
        }
      },
      "source": [
        "numero= int(input(\"digite um numero de 1 a 7: \"))\n",
        "if numero==1:\n",
        "  print(\"segunda\")\n",
        "if numero==2:\n",
        "  print(\"terca\")\n",
        "if numero==3:\n",
        "  print(\"quarta\")\n",
        "if numero==4:\n",
        "  print(\"quinta\")\n",
        "if numero==5:\n",
        "  print(\"sexta\")\n",
        "if numero==6:\n",
        "  print(\"sabado\")\n",
        "if numero==7:\n",
        "  print(\"domingo\")"
      ],
      "execution_count": null,
      "outputs": [
        {
          "output_type": "stream",
          "text": [
            "digite um numero de 1 a 7: 4\n",
            "quinta\n"
          ],
          "name": "stdout"
        }
      ]
    },
    {
      "cell_type": "markdown",
      "metadata": {
        "id": "aoG1j9C6tXO1"
      },
      "source": [
        "<h1><b>Exercicio 15</b></h1>\n",
        "Crie um programa que peça ao usuário que digite um número de 1 a 12 e mostre o mês correspondente ao número.\n"
      ]
    },
    {
      "cell_type": "code",
      "metadata": {
        "id": "rg-ohxARtXPI",
        "outputId": "81cdb0e4-af34-44bb-a5ad-38cbaa5db0ed",
        "colab": {
          "base_uri": "https://localhost:8080/",
          "height": 51
        }
      },
      "source": [
        "numero=int(input(\"digite um numero de 1 a 12: \"))\n",
        "if numero==1:\n",
        "  print(\"janeiro\")\n",
        "if numero==2:\n",
        "  print(\"fevereiro\")\n",
        "if numero==3:\n",
        "  print(\"marco\")\n",
        "if numero==4:\n",
        "  print(\"abril\")\n",
        "if numero==5:\n",
        "  print(\"maio\")\n",
        "if numero==6:\n",
        "  print(\"junho\")\n",
        "if numero==7:\n",
        "  print(\"julho\")\n",
        "if numero==8:\n",
        "  print(\"agosto\")\n",
        "if numero==9:\n",
        "  print(\"setembto\")\n",
        "if numero==10:\n",
        "  print(\"outubro\")\n",
        "if numero==11:\n",
        "  print(\"novembro\")\n",
        "if numero==12:\n",
        "  print(\"dezembro\")\n",
        "\n"
      ],
      "execution_count": null,
      "outputs": [
        {
          "output_type": "stream",
          "text": [
            "digite um numero de 1 a 12: 3\n",
            "marco\n"
          ],
          "name": "stdout"
        }
      ]
    },
    {
      "cell_type": "markdown",
      "metadata": {
        "id": "NIRd-dhltXPn"
      },
      "source": [
        "<h1><b>Exercicio 16</b></h1>\n",
        "\n",
        "Crie um programa para uma promoção de um posto de combustivel.\n",
        "\n",
        "O programa deve pedir ao usuário quantos litros ele quer abastecer e qual combustivel: álcool, diessel ou gasolina\n",
        "\n",
        "A promoção é a seguinte:\n",
        " - Para gasolina: Até 20 litros 0% de desconto e acima de 20 litros 10% de desconto\n",
        " - Para diessel: Até 10 litro 1.5% de desconto e acima de 10 litros 5% de desconto\n",
        " - para álcool: Até 10 litros 5% de desconto e acima de 10 litros 10% de desconto.\n",
        " \n",
        "Mostre o combustivel que ele selecionou, o total abastecido e a porcentagem de desconto a ser aplicada.\n",
        "\n",
        "Não precisa calcular o valor do combustivel!\n"
      ]
    },
    {
      "cell_type": "code",
      "metadata": {
        "id": "daF_8LoMtXPs",
        "outputId": "2c4618c5-c960-4507-c8a2-358134a29e58",
        "colab": {
          "base_uri": "https://localhost:8080/",
          "height": 68
        }
      },
      "source": [
        "litros= int(input(\"quantos litro: \"))\n",
        "tipo= str(input(\"escolha uma opcao: alcool, diesel ou gasolina. \"))\n",
        "if tipo==\"alcool\":\n",
        "  if litros<10:\n",
        "    print(\"5% de desconto\")\n",
        "  if litros>10:\n",
        "    print(\"10% de desconto\")\n",
        "if tipo==\"diesel\":\n",
        "  if litros<10:\n",
        "    print(\"1.5% de desconto\")\n",
        "  if litros>10:\n",
        "    print(\"5% de desconto\")\n",
        "if tipo==\"gasolina\":\n",
        "  if litros<20:\n",
        "    print(\"0% de desconto\")\n",
        "  if litros>20:\n",
        "    print(\"10% de desconto\")"
      ],
      "execution_count": null,
      "outputs": [
        {
          "output_type": "stream",
          "text": [
            "quantos litro: 20\n",
            "escolha uma opcao: alcool, diesel ou gasolina. diesel\n",
            "5% de desconto\n"
          ],
          "name": "stdout"
        }
      ]
    },
    {
      "cell_type": "markdown",
      "metadata": {
        "id": "3Bfc2bc_tXQO"
      },
      "source": [
        "<h1><b>Exercicio 17</b></h1>\n",
        "crie um programa que peça 4 notas de um aluno e calcule a média \"(nota1+nota2+nota3+nota4)/4\" e retorne:\n",
        "\n",
        "Pra média igual a 10 apareça a mensagem \"Aprovado com louvor\"\n",
        "Pra média maior igual a 7 apareça a mensagem \"Aprovado\"\n",
        "Pra média menor que 7 apareça a mensagem \"Reprovado\"\n"
      ]
    },
    {
      "cell_type": "code",
      "metadata": {
        "id": "vn9ljEpUtXQb",
        "outputId": "95a4b50a-35ee-4921-8113-dc3f7d121565",
        "colab": {
          "base_uri": "https://localhost:8080/",
          "height": 316
        }
      },
      "source": [
        "nota1=float(input(\"digite a nota1: \"))\n",
        "nota2=float(input(\"digite a nota2: \"))\n",
        "nota3=float(input(\"dgite a nota3: \"))\n",
        "nota4=float(input(\"digite a nota4: \"))\n",
        "media= print((nota1+nota2+nota3+nota4)/4)\n",
        "if media==10:\n",
        "  print(\"Aprovado com louvor!\")\n",
        "if media>7:\n",
        "  print(\"Aprovado\")\n",
        "if media<7:\n",
        "  print(\"Reprovado\")\n"
      ],
      "execution_count": null,
      "outputs": [
        {
          "output_type": "stream",
          "text": [
            "digite a nota1: 6\n",
            "digite a nota2: 7\n",
            "dgite a nota3: 8\n",
            "digite a nota4: 9\n",
            "7.5\n"
          ],
          "name": "stdout"
        },
        {
          "output_type": "error",
          "ename": "TypeError",
          "evalue": "ignored",
          "traceback": [
            "\u001b[0;31m---------------------------------------------------------------------------\u001b[0m",
            "\u001b[0;31mTypeError\u001b[0m                                 Traceback (most recent call last)",
            "\u001b[0;32m<ipython-input-127-cc0117a50b6d>\u001b[0m in \u001b[0;36m<module>\u001b[0;34m()\u001b[0m\n\u001b[1;32m      6\u001b[0m \u001b[0;32mif\u001b[0m \u001b[0mmedia\u001b[0m\u001b[0;34m==\u001b[0m\u001b[0;36m10\u001b[0m\u001b[0;34m:\u001b[0m\u001b[0;34m\u001b[0m\u001b[0;34m\u001b[0m\u001b[0m\n\u001b[1;32m      7\u001b[0m   \u001b[0mprint\u001b[0m\u001b[0;34m(\u001b[0m\u001b[0;34m\"Aprovado com louvor!\"\u001b[0m\u001b[0;34m)\u001b[0m\u001b[0;34m\u001b[0m\u001b[0;34m\u001b[0m\u001b[0m\n\u001b[0;32m----> 8\u001b[0;31m \u001b[0;32mif\u001b[0m \u001b[0mmedia\u001b[0m\u001b[0;34m>\u001b[0m\u001b[0;36m7\u001b[0m\u001b[0;34m:\u001b[0m\u001b[0;34m\u001b[0m\u001b[0;34m\u001b[0m\u001b[0m\n\u001b[0m\u001b[1;32m      9\u001b[0m   \u001b[0mprint\u001b[0m\u001b[0;34m(\u001b[0m\u001b[0;34m\"Aprovado\"\u001b[0m\u001b[0;34m)\u001b[0m\u001b[0;34m\u001b[0m\u001b[0;34m\u001b[0m\u001b[0m\n\u001b[1;32m     10\u001b[0m \u001b[0;32mif\u001b[0m \u001b[0mmedia\u001b[0m\u001b[0;34m<\u001b[0m\u001b[0;36m7\u001b[0m\u001b[0;34m:\u001b[0m\u001b[0;34m\u001b[0m\u001b[0;34m\u001b[0m\u001b[0m\n",
            "\u001b[0;31mTypeError\u001b[0m: '>' not supported between instances of 'NoneType' and 'int'"
          ]
        }
      ]
    },
    {
      "cell_type": "markdown",
      "metadata": {
        "id": "Kcd8-BfTtXQt"
      },
      "source": [
        "<h1><b>Exercicio 18</b></h1>\n",
        "Peça para o usuário digitar os valores de a, b e c\n",
        "\n",
        "Calcule o delta \"delta = (b**2)-(4*a*c)\"\n",
        "\n",
        "Se o delta der negativo, então deve aparecer a seguinte mensagem: \"Delta negativo! Equação não pode ser resolvida!\"\n",
        "\n",
        "Se o delta der igual a zero, então deve aparecer a seguinte mensagem: \"Delta igual a zero!\"\n",
        "\n",
        "Se o delta der positivo, então deve aparecer a seguinte mensagem: \"A equação pode ser resolvida!\""
      ]
    },
    {
      "cell_type": "code",
      "metadata": {
        "id": "1yFTkB5RtXQz",
        "outputId": "67cf19eb-06a7-434d-e594-f5437ec0b19b",
        "colab": {
          "base_uri": "https://localhost:8080/",
          "height": 85
        }
      },
      "source": [
        "A=float(input(\"digite o valor de A: \"))\n",
        "B=float(input(\"digite o valor de B: \"))\n",
        "C=float(input(\"digite o valor de C: \"))\n",
        "delta=(B**2)-(4*A*C)\n",
        "if delta<0:\n",
        "  print(\"equacao pode ser resolvida\")\n",
        "elif delta==0:\n",
        "  printe(\"delta zero\")\n",
        "elif delta>0:\n",
        "  print(\"equacao nao pode ser esolvida\")\n",
        "  #professor quando escrevo print no começo da formula do delta ele da erro, nao entendi o porquê."
      ],
      "execution_count": null,
      "outputs": [
        {
          "output_type": "stream",
          "text": [
            "digite o valor de A: 4\n",
            "digite o valor de B: 1\n",
            "digite o valor de C: 0\n",
            "equacao nao pode ser esolvida\n"
          ],
          "name": "stdout"
        }
      ]
    },
    {
      "cell_type": "markdown",
      "metadata": {
        "id": "2msinEKQtXRU"
      },
      "source": [
        "<h1><b>Exercicio 19</b></h1>\n",
        "Faça um programa para calcular a fórmula do bhaskara para equação de segundo grau: ax²+bx+c\n",
        "\n",
        "Peça para o usuário digitar os valores de a, b e c\n",
        "\n",
        "Calcule o delta \"delta = (b\\*\\*2)-(4\\*a\\*c)\"\n",
        "\n",
        "Se o delta der negativo, então deve aparecer a seguinte mensagem: \"Delta negativo! Equação não pode ser resolvida!\"\n",
        "\n",
        "Se o delta for igual a zero, use esta fórmula \"x=-b/(2\\*a)\" e mostre o valor de x\n",
        "\n",
        "Se delta for maior que zero, então use estas 2 fórmulas \"x =(-b+(delta\\*\\*(1/2)))/(2\\*a)\" e \"x2=(-b-(delta\\*\\*(1/2)))/(2\\*a)\"\n",
        "e mostre o os valores de x1 e x2  \n",
        "    \n",
        "    \n",
        "________________\n",
        "Nota: <br>\n",
        "Para testar se seu programa está certo use estes valores para a, b e c<br>\n",
        "delta negativo a=1, b=1, c=1<br>\n",
        "delta zero a=1, b=2, c=1<br>\n",
        "delta positivo a=1, b=4, c=1<br>"
      ]
    },
    {
      "cell_type": "code",
      "metadata": {
        "id": "F9ymLIyEtXRX",
        "outputId": "2ae748a9-216d-4abc-f335-45ee5c7d80a6",
        "colab": {
          "base_uri": "https://localhost:8080/",
          "height": 85
        }
      },
      "source": [
        "a=float(input('valor de a: '))\n",
        "b=float(input('valor de b: '))\n",
        "c=float(input('valor de c: '))\n",
        "delta=(b**2)-(4*a*c)\n",
        "if delta<0:\n",
        "  print('delta negativo!')\n",
        "elif delta==0:\n",
        "  x=-b/(2*a)\n",
        "  print('o valor de x é', x)\n",
        "elif delta>0:\n",
        "  x=(-b+(delta**(1/2)))/(2*a)\n",
        "  x2=(-b-(delta**(1/2)))/(2*a)\n",
        "  print('o valor de x é', x, 'o valor de x2 é', x2)"
      ],
      "execution_count": null,
      "outputs": [
        {
          "output_type": "stream",
          "text": [
            "valor de a: 1\n",
            "valor de b: 4\n",
            "valor de c: 1\n",
            "o valor de x é -0.2679491924311228 o valor de x2 é -3.732050807568877\n"
          ],
          "name": "stdout"
        }
      ]
    }
  ]
}
